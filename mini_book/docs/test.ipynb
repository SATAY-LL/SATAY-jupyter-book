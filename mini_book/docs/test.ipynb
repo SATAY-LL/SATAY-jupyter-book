{
 "metadata": {
  "language_info": {
   "codemirror_mode": {
    "name": "ipython",
    "version": 3
   },
   "file_extension": ".py",
   "mimetype": "text/x-python",
   "name": "python",
   "nbconvert_exporter": "python",
   "pygments_lexer": "ipython3",
   "version": 3
  },
  "orig_nbformat": 2
 },
 "nbformat": 4,
 "nbformat_minor": 2,
 "cells": [
  {
   "cell_type": "code",
   "execution_count": null,
   "metadata": {},
   "outputs": [],
   "source": [
    "import pandas as pd\n",
    "import pylab as pl\n",
    "import numpy as np\n",
    "import seaborn as sns\n",
    "import scipy.optimize as opt\n",
    "from sklearn import preprocessing\n",
    "%matplotlib inline \n",
    "import matplotlib.pyplot as plt"
   ]
  },
  {
   "cell_type": "code",
   "execution_count": null,
   "metadata": {},
   "outputs": [],
   "source": [
    "import os\n",
    "script_dir = os.path.dirname('__file__') #<-- absolute dir the script is in\n",
    "rel_path_data_insertions=\"Python_scripts/Data_Files/wt-truncated-insertions-per-gene.xlsx\"\n",
    "# rel_path_data_reads=\"Python_scripts/Data_Files/WT-benoit-truncated-insertions-per-gene.xlsx\"\n",
    "\n",
    "\n",
    "# abs_path_data_reads = os.path.join(script_dir, rel_path_data_reads)\n",
    "abs_path_data_insertions = os.path.join(script_dir, rel_path_data_insertions)\n",
    "data_insertions=pd.read_excel(abs_path_data_insertions)"
   ]
  }
 ]
}