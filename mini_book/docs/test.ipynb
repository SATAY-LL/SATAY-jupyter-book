{
 "metadata": {
  "language_info": {
   "codemirror_mode": {
    "name": "ipython",
    "version": 3
   },
   "file_extension": ".py",
   "mimetype": "text/x-python",
   "name": "python",
   "nbconvert_exporter": "python",
   "pygments_lexer": "ipython3",
   "version": "3.7.6-final"
  },
  "orig_nbformat": 2,
  "kernelspec": {
   "name": "python_defaultSpec_1597923564875",
   "display_name": "Python 3.7.6 64-bit ('wintest': conda)"
  }
 },
 "nbformat": 4,
 "nbformat_minor": 2,
 "cells": [
  {
   "cell_type": "code",
   "execution_count": 2,
   "metadata": {},
   "outputs": [],
   "source": [
    "import pandas as pd\n",
    "import pylab as pl\n",
    "import numpy as np\n",
    "import seaborn as sns\n",
    "import scipy.optimize as opt\n",
    "from sklearn import preprocessing\n",
    "%matplotlib inline \n",
    "import matplotlib.pyplot as plt"
   ]
  },
  {
   "cell_type": "code",
   "execution_count": 10,
   "metadata": {},
   "outputs": [],
   "source": [
    "import os\n",
    "script_dir = os.path.dirname('__file__') #<-- absolute dir the script is in\n",
    "rel_path_data_insertions=\"Python_scripts/Data_Files/wt-truncated-insertions-per-gene.xlsx\"\n",
    "# rel_path_data_reads=\"Python_scripts/Data_Files/WT-benoit-truncated-insertions-per-gene.xlsx\"\n",
    "\n",
    "\n",
    "# abs_path_data_reads = os.path.join(script_dir, rel_path_data_reads)\n",
    "abs_path_data_insertions = os.path.join(script_dir, rel_path_data_insertions)\n",
    "data_insertions=pd.read_excel(abs_path_data_insertions,header=0)"
   ]
  },
  {
   "cell_type": "code",
   "execution_count": 11,
   "metadata": {},
   "outputs": [
    {
     "output_type": "execute_result",
     "data": {
      "text/plain": "      Gene_name  Essentiality  Insertions_truncated\n0       YAL069W             0                     5\n1     YAL068W-A             0                     2\n2          PAU8             0                     1\n3     YAL067W-A             0                     0\n4          SEO1             0                    15\n...         ...           ...                   ...\n6595       ARR3             0                     7\n6596    YPR202W             0                    18\n6597    YPR203W             0                     8\n6598    YPR204W             0                    66\n6599  YPR204C-A             0                     4\n\n[6600 rows x 3 columns]",
      "text/html": "<div>\n<style scoped>\n    .dataframe tbody tr th:only-of-type {\n        vertical-align: middle;\n    }\n\n    .dataframe tbody tr th {\n        vertical-align: top;\n    }\n\n    .dataframe thead th {\n        text-align: right;\n    }\n</style>\n<table border=\"1\" class=\"dataframe\">\n  <thead>\n    <tr style=\"text-align: right;\">\n      <th></th>\n      <th>Gene_name</th>\n      <th>Essentiality</th>\n      <th>Insertions_truncated</th>\n    </tr>\n  </thead>\n  <tbody>\n    <tr>\n      <th>0</th>\n      <td>YAL069W</td>\n      <td>0</td>\n      <td>5</td>\n    </tr>\n    <tr>\n      <th>1</th>\n      <td>YAL068W-A</td>\n      <td>0</td>\n      <td>2</td>\n    </tr>\n    <tr>\n      <th>2</th>\n      <td>PAU8</td>\n      <td>0</td>\n      <td>1</td>\n    </tr>\n    <tr>\n      <th>3</th>\n      <td>YAL067W-A</td>\n      <td>0</td>\n      <td>0</td>\n    </tr>\n    <tr>\n      <th>4</th>\n      <td>SEO1</td>\n      <td>0</td>\n      <td>15</td>\n    </tr>\n    <tr>\n      <th>...</th>\n      <td>...</td>\n      <td>...</td>\n      <td>...</td>\n    </tr>\n    <tr>\n      <th>6595</th>\n      <td>ARR3</td>\n      <td>0</td>\n      <td>7</td>\n    </tr>\n    <tr>\n      <th>6596</th>\n      <td>YPR202W</td>\n      <td>0</td>\n      <td>18</td>\n    </tr>\n    <tr>\n      <th>6597</th>\n      <td>YPR203W</td>\n      <td>0</td>\n      <td>8</td>\n    </tr>\n    <tr>\n      <th>6598</th>\n      <td>YPR204W</td>\n      <td>0</td>\n      <td>66</td>\n    </tr>\n    <tr>\n      <th>6599</th>\n      <td>YPR204C-A</td>\n      <td>0</td>\n      <td>4</td>\n    </tr>\n  </tbody>\n</table>\n<p>6600 rows × 3 columns</p>\n</div>"
     },
     "metadata": {},
     "execution_count": 11
    }
   ],
   "source": [
    "data_insertions"
   ]
  },
  {
   "cell_type": "code",
   "execution_count": null,
   "metadata": {},
   "outputs": [],
   "source": []
  }
 ]
}