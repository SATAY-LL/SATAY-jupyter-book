{
 "cells": [
  {
   "cell_type": "code",
   "execution_count": 1,
   "metadata": {},
   "outputs": [],
   "source": [
    "import pandas as pd\n",
    "import numpy as np\n",
    "import seaborn as sns\n",
    "import os\n",
    "from scipy import stats\n",
    "%matplotlib inline \n",
    "import matplotlib.pyplot as plt\n",
    "\n",
    "from bioinfokit import analys, visuz"
   ]
  },
  {
   "cell_type": "code",
   "execution_count": 2,
   "metadata": {},
   "outputs": [],
   "source": [
    "\n",
    "script_dir = os.path.dirname('__file__') #<-- absolute dir the script is in\n",
    "# rel_path_data_wt=\"WT_trimmed-sorted-bam.txt\"\n",
    "rel_path_data_wt=\"benoit-Processed-dataset-WildType1_pergene.txt\"\n",
    "rel_path_data_mutant=\"benoit-Processed-dataset-Dpl1del_pergene.txt\"\n",
    "# rel_path_data_mutant=\"dDpl1Kan-sorted-bam.txt\"\n",
    "\n",
    "\n",
    "abs_path_data_wt = os.path.join(script_dir, rel_path_data_wt)\n",
    "abs_path_data_mutant = os.path.join(script_dir, rel_path_data_mutant)\n",
    "data_wt = pd.read_csv(abs_path_data_wt, sep=\"\\t\", header=0)\n",
    "data_mutant = pd.read_csv(abs_path_data_mutant, sep=\"\\t\", header=0)\n",
    "\n",
    "# data_mutant.columns=['insertions','reads']\n",
    "# data_wt.columns=['insertions','reads']"
   ]
  },
  {
   "cell_type": "code",
   "execution_count": 3,
   "metadata": {},
   "outputs": [],
   "source": [
    "data_wt['number_of_read_pergene']=data_wt['number_of_transposon_per_gene']\n",
    "data_wt['number_of_transposon_per_gene']=data_wt['gene_name']\n",
    "data_wt['gene_name']=data_wt.index\n",
    "data_wt.index=np.arange(0,len(data_wt))"
   ]
  },
  {
   "cell_type": "code",
   "execution_count": 4,
   "metadata": {},
   "outputs": [],
   "source": [
    "data_mutant['number_of_read_pergene']=data_mutant['number_of_transposon_per_gene']\n",
    "data_mutant['number_of_transposon_per_gene']=data_mutant['gene_name']\n",
    "data_mutant['gene_name']=data_mutant.index\n",
    "data_mutant.index=np.arange(0,len(data_mutant))"
   ]
  },
  {
   "cell_type": "code",
   "execution_count": 5,
   "metadata": {},
   "outputs": [],
   "source": [
    "data_mutant.columns=['geneid','insertions','reads']\n",
    "data_wt.columns=['geneid','insertions','reads']"
   ]
  },
  {
   "cell_type": "code",
   "execution_count": 6,
   "metadata": {},
   "outputs": [],
   "source": [
    "total_tn_mutant=data_mutant.insertions.sum()\n",
    "total_tn_wt=data_wt.insertions.sum()"
   ]
  },
  {
   "cell_type": "code",
   "execution_count": 7,
   "metadata": {},
   "outputs": [],
   "source": [
    "data_mutant_normalized2tn=data_mutant.insertions/total_tn_mutant\n",
    "data_wt_normalized2tn=data_wt.insertions/total_tn_wt"
   ]
  },
  {
   "cell_type": "code",
   "execution_count": 8,
   "metadata": {},
   "outputs": [],
   "source": [
    "fold_change_per_gene=data_mutant_normalized2tn/data_wt_normalized2tn"
   ]
  },
  {
   "cell_type": "code",
   "execution_count": 9,
   "metadata": {},
   "outputs": [],
   "source": [
    "data2volcano=pd.DataFrame(columns=['geneid','values-exp','values-ref','log2FC','p-value'])"
   ]
  },
  {
   "cell_type": "code",
   "execution_count": 10,
   "metadata": {},
   "outputs": [
    {
     "data": {
      "text/plain": [
       "0       1.016231\n",
       "1       2.328864\n",
       "2       0.465773\n",
       "3       1.397318\n",
       "4       1.019665\n",
       "          ...   \n",
       "6598    1.571983\n",
       "6599    1.130184\n",
       "6600    0.877205\n",
       "6601    0.613973\n",
       "6602    0.931546\n",
       "Name: insertions, Length: 6603, dtype: float64"
      ]
     },
     "execution_count": 10,
     "metadata": {},
     "output_type": "execute_result"
    }
   ],
   "source": [
    "fold_change_per_gene"
   ]
  },
  {
   "cell_type": "code",
   "execution_count": 12,
   "metadata": {},
   "outputs": [],
   "source": [
    "data2volcano['geneid']=data_wt['geneid']\n",
    "data2volcano['values-exp']=data_mutant_normalized2tn\n",
    "data2volcano['values-ref']=data_wt_normalized2tn\n",
    "data2volcano['log2FC']=np.log2(fold_change_per_gene)\n",
    "data2volcano['log2FC'].fillna(0)\n",
    "data2volcano['values-ref'].fillna(0)\n",
    "data2volcano['values-exp'].fillna(0)\n",
    "data2volcano['log2FC']=data2volcano['log2FC'].replace(to_replace='-inf',value=0)"
   ]
  },
  {
   "cell_type": "markdown",
   "metadata": {},
   "source": [
    "## p-value according a T-student distribution\n",
    "\n",
    "- https://towardsdatascience.com/inferential-statistics-series-t-test-using-numpy-2718f8f9bf2f\n",
    "- https://www.reneshbedre.com/blog/volcano.html"
   ]
  },
  {
   "cell_type": "code",
   "execution_count": 22,
   "metadata": {},
   "outputs": [],
   "source": [
    "\n",
    "## Define 2 random distributions\n",
    "#Sample Size\n",
    "N = len(data2volcano)\n",
    "#Gaussian distributed data with mean = 2 and var = 1\n",
    "a = data2volcano['values-exp'].fillna(0)\n",
    "#Gaussian distributed data with with mean = 0 and var = 1\n",
    "b = data2volcano['values-ref'].fillna(0)\n",
    "\n",
    "\n",
    "## Calculate the Standard Deviation\n",
    "#Calculate the variance to get the standard deviation\n",
    "\n",
    "#For unbiased max likelihood estimate we have to divide the var by N-1, and therefore the parameter ddof = 1\n",
    "var_a = a.var(ddof=1)\n",
    "var_b = b.var(ddof=1)\n",
    "\n",
    "#std deviation\n",
    "s = np.sqrt((var_a + var_b)/2)\n",
    "\n",
    "## Calculate the t-statistics\n",
    "t = (a - b)/(s*np.sqrt(2/N))\n",
    "\n",
    "\n",
    "## Compare with the critical t-value\n",
    "#Degrees of freedom\n",
    "df = 2*N - 2\n",
    "\n",
    "#p-value after comparison with the t \n",
    "p = 1 - stats.t.cdf(t,df=df)\n",
    "\n",
    "\n",
    "# print(\"t = \" + str(t))\n",
    "# print(\"p = \" + str(2*p))\n",
    "### You can see that after comparing the t statistic with the critical t value (computed internally) we get a good p value of 0.0005 and thus we reject the null hypothesis and thus it proves that the mean of the two distributions are different and statistically significant.\n",
    "\n",
    "\n",
    "## Cross Checking with the internal scipy function\n",
    "t2, p2 = stats.ttest_ind(a,b)\n",
    "# print(\"t = \" + str(t2))\n",
    "# print(\"p = \" + str(p2))"
   ]
  },
  {
   "cell_type": "code",
   "execution_count": 26,
   "metadata": {},
   "outputs": [],
   "source": [
    "data2volcano['p-value']=p\n",
    "data2volcano['ttest']=t"
   ]
  },
  {
   "cell_type": "code",
   "execution_count": null,
   "metadata": {},
   "outputs": [],
   "source": []
  },
  {
   "cell_type": "code",
   "execution_count": 23,
   "metadata": {},
   "outputs": [
    {
     "data": {
      "text/plain": [
       "(array([3.000e+00, 1.400e+01, 8.400e+01, 1.324e+03, 4.880e+03, 2.710e+02,\n",
       "        1.300e+01, 5.000e+00, 1.000e+00, 2.000e+00]),\n",
       " array([-141.63018633, -108.25807165,  -74.88595696,  -41.51384228,\n",
       "          -8.14172759,   25.23038709,   58.60250178,   91.97461646,\n",
       "         125.34673115,  158.71884584,  192.09096052]),\n",
       " <a list of 10 Patch objects>)"
      ]
     },
     "execution_count": 23,
     "metadata": {},
     "output_type": "execute_result"
    },
    {
     "data": {
      "image/png": "[encoded data removed]",
      "text/plain": [
       "<Figure size 432x288 with 1 Axes>"
      ]
     },
     "metadata": {
      "filenames": {
       "image/png": "C:\\Users\\linigodelacruz\\Documents\\PhD_2018\\Documentation\\SATAY\\src(source-code)\\SATAY-jupyter-book\\mini_book\\docs\\_build\\jupyter_execute\\postprocessing-scripts\\volcano_plots_reproducing-Benoit-paper_15_1.png"
      },
      "needs_background": "light"
     },
     "output_type": "display_data"
    }
   ],
   "source": [
    "plt.hist(data2volcano['ttest'])"
   ]
  },
  {
   "cell_type": "code",
   "execution_count": 30,
   "metadata": {},
   "outputs": [],
   "source": [
    "inf=data2volcano['log2FC'][6599]\n",
    "data2volcano['log2FC']=data2volcano['log2FC'].replace(inf,0)\n",
    "data2volcano['log2FC']=data2volcano['log2FC'].fillna(0)\n",
    "data2volcano['log2FC']=pd.to_numeric(data2volcano['log2FC'])\n",
    "data2volcano['p-value']=data2volcano['p-value'].fillna(0)\n",
    "data2volcano['p-value']=pd.to_numeric(data2volcano['p-value'])"
   ]
  },
  {
   "cell_type": "code",
   "execution_count": 47,
   "metadata": {},
   "outputs": [],
   "source": [
    "visuz.gene_exp.volcano(df=data2volcano, lfc='log2FC', pv='p-value',pv_thr=[1, 1],geneid='geneid',genenames=('CDC24','CDC42'))"
   ]
  },
  {
   "cell_type": "code",
   "execution_count": 49,
   "metadata": {},
   "outputs": [],
   "source": [
    "visuz.gene_exp.volcano(df=data2volcano, lfc='log2FC', pv='p-value', plotlegend=True, legendpos='upper right', \n",
    "    legendanchor=(1.46,1),pv_thr=[0.99,0.99],sign_line=True)"
   ]
  },
  {
   "cell_type": "code",
   "execution_count": null,
   "metadata": {},
   "outputs": [],
   "source": []
  }
 ],
 "metadata": {
  "kernelspec": {
   "display_name": "Python 3.7.0 64-bit ('base': conda)",
   "language": "python",
   "name": "python37064bitbaseconda6c8618fc0f0945779f8ded01abbb1089"
  },
  "language_info": {
   "codemirror_mode": {
    "name": "ipython",
    "version": 3
   },
   "file_extension": ".py",
   "mimetype": "text/x-python",
   "name": "python",
   "nbconvert_exporter": "python",
   "pygments_lexer": "ipython3",
   "version": "3.7.7-final"
  }
 },
 "nbformat": 4,
 "nbformat_minor": 4
}