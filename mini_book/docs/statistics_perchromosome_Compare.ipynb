{
 "cells": [
  {
   "cell_type": "markdown",
   "metadata": {},
   "source": [
    "# Statistics_Perchromosome_Compare"
   ]
  },
  {
   "cell_type": "markdown",
   "metadata": {},
   "source": [
    "## Introduction\n",
    "\n",
    "This script gives a numerical overview of the two datasets in the form of a textfile.\n",
    "This can be used for comparing statistical values of two datasets.\n"
   ]
  },
  {
   "cell_type": "markdown",
   "metadata": {},
   "source": [
    "## The python script\n",
    "The script inputs two .bed files in a list that were generated using the Matlab code provided by the Kornmann lab and the path and name of a text file where the results will be written.\n",
    "Currently 11 different statistical values are determined, but this can be easily extended (see explainatory text between the codes below).\n",
    "\n",
    "1. Number of transposon insertions.\n",
    "2. Percentage of the chromosome that is covered by transposons\n",
    "3. Mean distance between transposon insertions.\n",
    "4. Median distance between transposon insertions.\n",
    "5. 25th percentile of the distance between transposon insertions.\n",
    "6. 75th percentile of the distance between transposon insertions.\n",
    "7. Largest area devoid of transposons\n",
    "8. Mean number of reads per transposon\n",
    "9. Median numbr of reads per transposon\n",
    "10. 25th percentile reads per transposon\n",
    "11. 75th percentile reads per transposon\n",
    "\n"
   ]
  },
  {
   "cell_type": "markdown",
   "metadata": {},
   "source": [
    "### Input\n",
    "The function inputs either a gene name (`gene_name`, type=string) or a region (`region`, type=list) specified as a list with three entries (chromosome number as a roman numeral, start position of the region and the end position respectively).\n",
    "The variable `gene_name` can be set to any gene name or `holocus` or `ho-locus`.\n",
    "Next it requires the bed-file (`bed_file`, type=string) which is created by the Matlab code provided from [the Kornman lab](https://sites.google.com/site/satayusers/complete-protocol/bioinformatics-analysis/matlab-script).\n",
    "Finally, the figure can be automatically saved (at a location specified in the beginning of the function) by setting `savefigure` to `True`.\n",
    "\n",
    "The custom build functions (stored in the ['python modules' folder on Github](https://github.com/Gregory94/LaanLab-SATAY-DataAnalysis/tree/master/python_modules)) that are required are:\n",
    "- chromosome_and_gene_positions.chromosome_position\n",
    "- chromosome_and_gene_positions.chromosome_roman_to_arabic\n",
    "- chromosome_names_in_fies.chromosome_name_bedfile"
   ]
  },
  {
   "cell_type": "code",
   "execution_count": 5,
   "metadata": {},
   "outputs": [
    {
     "output_type": "stream",
     "name": "stdout",
     "text": "True\nTrue\n"
    }
   ],
   "source": [
    "import os, sys\n",
    "import numpy as np\n",
    "from tabulate import tabulate\n",
    "\n",
    "file_dirname = os.path.dirname(os.path.abspath('__file__'))\n",
    "sys.path.insert(1,os.path.join(file_dirname,'python_modules'))\n",
    "from chromosome_and_gene_positions import chromosome_position, chromosomename_roman_to_arabic\n",
    "from chromosome_names_in_files import chromosome_name_bedfile\n",
    "\n",
    "\n",
    "#FUNCTION INPUTS\n",
    "bed_files = [os.path.join(file_dirname,'..','satay_analysis_testdata','Output_Processing','Cerevisiae_WT2_Michel2017_trimmed1.bam.bed'),\n",
    "            os.path.join(file_dirname,'..','satay_analysis_testdata','Output_Processing','Cerevisiae_WT2_Michel2017_trimmed2.bam.bed')]\n",
    "text_file = os.path.join(file_dirname,'..','satay_analysis_testdata','Output_Processing','Cerevisiae_WT2_Michel2017_trimmed1-2_Compare.txt')\n",
    "\n",
    "for test_path in bed_files:\n",
    "    print(os.path.isfile(test_path))"
   ]
  },
  {
   "cell_type": "markdown",
   "metadata": {},
   "source": [
    "### Loading files\n",
    "Next additional files are loaded. Change this to your local paths leading to the gff-file (for example downloaded from SGD [https://www.yeastgenome.org/] or get a copy from the docs folder on Github [https://github.com/Gregory94/LaanLab-SATAY-DataAnalysis])."
   ]
  },
  {
   "cell_type": "code",
   "execution_count": 6,
   "metadata": {},
   "outputs": [],
   "source": [
    "gff_file = os.path.join(file_dirname,'Data_Files','Saccharomyces_cerevisiae.R64-1-1.99.gff3')"
   ]
  },
  {
   "cell_type": "markdown",
   "metadata": {},
   "source": [
    "### Set name of text file and create header\n",
    "\n",
    "The path and name that are given as input for saving the text file is extended with 'DataCompare.txt' to make sure the file is recognizable and have the right extension.\n",
    "\n",
    "Secondly, the header for the text file is created here."
   ]
  },
  {
   "cell_type": "code",
   "execution_count": 7,
   "metadata": {},
   "outputs": [],
   "source": [
    "if text_file == True:\n",
    "    text_file = os.path.splitext(bed_files[0])[0] + '_DataCompare.txt'\n",
    "\n",
    "if text_file is not None:\n",
    "    t = open(text_file, 'w+')\n",
    "    if len(bed_files) == 1:\n",
    "        t.write('Statistical values for datafile: ' + bed_files[0].split('\\\\')[-1] + '\\n')\n",
    "    elif len(bed_files) == 2:\n",
    "        t.write('Statistical values for datafile: ' + bed_files[0].split('\\\\')[-1] + ' and ' + bed_files[1].split('\\\\')[-1] + '\\n')\n",
    "    t.close()"
   ]
  },
  {
   "cell_type": "markdown",
   "metadata": {},
   "source": [
    "### Get chromosome information\n",
    "\n",
    "Determine the lengths and position of the different chromosomes and get a list of the chromosome names in terms of roman numerals."
   ]
  },
  {
   "cell_type": "code",
   "execution_count": 8,
   "metadata": {},
   "outputs": [],
   "source": [
    "chr_length_dict, chr_start_pos_dict, chr_end_pos_dict = chromosome_position(gff_file)\n",
    "\n",
    "roman_to_arabic_dict = chromosomename_roman_to_arabic()[1]\n",
    "chromosome_romannames_list = []\n",
    "for roman in roman_to_arabic_dict:\n",
    "    chromosome_romannames_list.append(roman)"
   ]
  },
  {
   "cell_type": "markdown",
   "metadata": {},
   "source": [
    "### Create lists for the variables\n",
    "\n",
    "All the variables that are determined are put in individual lists.\n",
    "When new statistics needs to be determined, add a new list for each new value."
   ]
  },
  {
   "cell_type": "code",
   "execution_count": 9,
   "metadata": {},
   "outputs": [],
   "source": [
    "N_Tn_Ins = []\n",
    "Cov_Percent = []\n",
    "Mean_Tn_Dist = []\n",
    "Median_Tn_Dist = []\n",
    "Tn_Dist_25th_Percent = []\n",
    "Tn_Dist_75th_Percent = []\n",
    "Tn_Gap = []\n",
    "Mean_Reads_PerTn = []\n",
    "Median_Reads_PerTn = []\n",
    "Reads_25th_percent = []\n",
    "Reads_75th_percent = []"
   ]
  },
  {
   "cell_type": "markdown",
   "metadata": {},
   "source": [
    "### Determine statistics\n",
    "\n",
    "For each chromosome in each .bed file the statistical values are determined and stored in the respective lists.\n",
    "The values are also determined for the entire genome.\n",
    "\n",
    "First a for loop is done over all bed files and for each bed file the names of the chromosomes as they are stored in the bed files are determined.\n",
    "Next, some statistical values are determined and depending whether it is first file written a text file is generated or the values are appended to the already exsiting text file.\n",
    "After all chromosomes the statistics are determined for the entire genome as well."
   ]
  },
  {
   "cell_type": "code",
   "execution_count": 10,
   "metadata": {},
   "outputs": [
    {
     "output_type": "stream",
     "name": "stdout",
     "text": "Print information chromosome I with length 230218\nPrint information chromosome II with length 813184\nPrint information chromosome III with length 316620\nPrint information chromosome IV with length 1531933\nPrint information chromosome V with length 576874\nPrint information chromosome VI with length 270161\nPrint information chromosome VII with length 1090940\nPrint information chromosome VIII with length 562643\nPrint information chromosome IX with length 439888\nPrint information chromosome X with length 745751\nPrint information chromosome XI with length 666816\nPrint information chromosome XII with length 1078177\nPrint information chromosome XIII with length 924431\nPrint information chromosome XIV with length 784333\nPrint information chromosome XV with length 1091291\nPrint information chromosome XVI with length 948066\n"
    }
   ],
   "source": [
    "bed_file_counter = 0\n",
    "for bed_file in bed_files:\n",
    "    with open(bed_file) as f:\n",
    "        lines = f.readlines()\n",
    "\n",
    "    chrom_names_dict, chrom_start_index_dict, chrom_end_index_dict = chromosome_name_bedfile(lines)\n",
    "    chrom_loop = chrom_names_dict\n",
    "\n",
    "#DETERMINE STATISTICS\n",
    "    bp_between_tn_insertions_dict = {}\n",
    "    reads_per_tn_dict = {}\n",
    "    for chrom in chrom_loop:\n",
    "        tn_insertion_position_list = []\n",
    "        reads_per_tn_list = []\n",
    "        for line in lines[chrom_start_index_dict.get(chrom):chrom_end_index_dict.get(chrom)+1]:\n",
    "            line = line.strip('\\n').split()\n",
    "            tn_insertion_position_list.append(int(line[1]))\n",
    "            reads_per_tn_list.append((int(line[4])-100)/20)\n",
    "        bp_between_tn_insertions = [abs(y-x) for x, y in zip(tn_insertion_position_list[:-1], tn_insertion_position_list[1:])]\n",
    "        bp_between_tn_insertions.insert(0,tn_insertion_position_list[0]) #ADD START OF GENE (bp=0)\n",
    "        bp_between_tn_insertions.append(chr_length_dict.get(chrom) - tn_insertion_position_list[-1]) #ADD END OF GENE (bp=GENE_LENGTH-TRANSPOSON INSERTION LAST GENE)\n",
    "        bp_between_tn_insertions_dict[chrom] = bp_between_tn_insertions\n",
    "        reads_per_tn_dict[chrom] = reads_per_tn_list\n",
    "\n",
    "        tn_insertion_meanfrequency = np.nanmean(bp_between_tn_insertions)\n",
    "        tn_insertion_25percentilefrequency = np.percentile(bp_between_tn_insertions,25)\n",
    "        tn_insertion_medianfrequency = np.nanmedian(bp_between_tn_insertions)\n",
    "        tn_insertion_75percentilefrequency = np.percentile(bp_between_tn_insertions,75)\n",
    "\n",
    "#IF IT IS THE FIRST BED FILE, CREATE TITLES FOR EACH STATISTIC TO WRITE IN THE TEXT FILE.\n",
    "        if bed_file_counter == 0:\n",
    "            print('Print information chromosome ' + chrom + ' with length ' + str(chr_length_dict.get(chrom)))\n",
    "            N_Tn_Ins.append([chrom, 'Number of transposon insertions', len(reads_per_tn_list), ''])\n",
    "            Cov_Percent.append([chrom, 'Coverage percent', len(tn_insertion_position_list)/chr_length_dict.get(chrom)*100, ''])\n",
    "            \n",
    "            Mean_Tn_Dist.append([chrom, 'Mean distance between insertions', tn_insertion_meanfrequency, ''])\n",
    "            Median_Tn_Dist.append([chrom, 'Median distance between insertions', tn_insertion_medianfrequency, ''])\n",
    "            Tn_Dist_25th_Percent.append([chrom, '25th percentile distance between insertions', tn_insertion_25percentilefrequency, ''])\n",
    "            Tn_Dist_75th_Percent.append([chrom, '75th percentile distance between insertions', tn_insertion_75percentilefrequency, ''])\n",
    "            \n",
    "            Tn_Gap.append([chrom, 'Largest area devoid of transposons', max(bp_between_tn_insertions), ''])\n",
    "            \n",
    "            Mean_Reads_PerTn.append([chrom, 'Mean number of reads per transposon', np.nanmean(reads_per_tn_list), ''])\n",
    "            Median_Reads_PerTn.append([chrom, 'Median number of reads per transposon', np.nanmedian(reads_per_tn_list), ''])\n",
    "            Reads_25th_percent.append([chrom, '25th percentile reads per transposon', np.percentile(reads_per_tn_list,25), ''])\n",
    "            Reads_75th_percent.append([chrom, '75th percentile reads per transposon', np.percentile(reads_per_tn_list,75), ''])\n",
    "\n",
    "#IF IT IS NOT THE FIRST BED FILE, APPEND THE STATISTICS FOR THE CURRENT BED FILE TO THE EXISTING STATISTICS OF THE PREVIOUS BED FILE.\n",
    "        elif bed_file_counter == 1:\n",
    "            N_Tn_Ins[chromosome_romannames_list.index(chrom)][-1] = len(reads_per_tn_list)\n",
    "            Cov_Percent[chromosome_romannames_list.index(chrom)][-1] = len(tn_insertion_position_list)/chr_length_dict.get(chrom)*100\n",
    "            \n",
    "            Mean_Tn_Dist[chromosome_romannames_list.index(chrom)][-1] = tn_insertion_meanfrequency\n",
    "            Median_Tn_Dist[chromosome_romannames_list.index(chrom)][-1] = tn_insertion_medianfrequency\n",
    "            Tn_Dist_25th_Percent[chromosome_romannames_list.index(chrom)][-1] = tn_insertion_25percentilefrequency\n",
    "            Tn_Dist_75th_Percent[chromosome_romannames_list.index(chrom)][-1] = tn_insertion_75percentilefrequency\n",
    "            \n",
    "            Tn_Gap[chromosome_romannames_list.index(chrom)][-1] = max(bp_between_tn_insertions)\n",
    "            \n",
    "            Mean_Reads_PerTn[chromosome_romannames_list.index(chrom)][-1] = np.nanmean(reads_per_tn_list)\n",
    "            Median_Reads_PerTn[chromosome_romannames_list.index(chrom)][-1] = np.nanmedian(reads_per_tn_list)\n",
    "            Reads_25th_percent[chromosome_romannames_list.index(chrom)][-1] =  np.percentile(reads_per_tn_list,25)\n",
    "            Reads_75th_percent[chromosome_romannames_list.index(chrom)][-1] = np.percentile(reads_per_tn_list,75)\n",
    "\n",
    "#DETERMINE STATISTICS FOR THE ENTIRE GENOME\n",
    "    bp_between_tn_insertions_genome = []\n",
    "    number_tn_insertions_list = []\n",
    "    reads_per_tn_genome = []\n",
    "    number_tn_insertions_genome = 0\n",
    "    for chrom in chrom_loop:\n",
    "        number_tn_insertions_genome += len(reads_per_tn_dict.get(chrom))\n",
    "        for bp_between in bp_between_tn_insertions_dict.get(chrom):\n",
    "            bp_between_tn_insertions_genome.append(bp_between)\n",
    "        number_tn_insertions_list.append(len(bp_between_tn_insertions_dict.get(chrom)))\n",
    "        for reads_tn in reads_per_tn_dict.get(chrom):\n",
    "            reads_per_tn_genome.append(reads_tn)\n",
    "\n",
    "    if bed_file_counter == 0:\n",
    "        N_Tn_Ins.append(['Genome','Number of insertions',number_tn_insertions_genome, ''])\n",
    "        Cov_Percent.append(['Genome', 'Coverage percent', sum(number_tn_insertions_list)/sum(chr_length_dict.values())*100, ''])\n",
    "        Mean_Tn_Dist.append(['Genome', 'Mean distance between insertions', np.nanmean(bp_between_tn_insertions_genome), ''])\n",
    "        Median_Tn_Dist.append(['Genome', 'Median distance between insertions', np.nanmedian(bp_between_tn_insertions_genome), ''])\n",
    "        Tn_Dist_25th_Percent.append(['Genome', '25th percentile distance between insertions', np.percentile(bp_between_tn_insertions_genome,25), ''])\n",
    "        Tn_Dist_75th_Percent.append(['Genome', '75th percentile distance between insertions', np.percentile(bp_between_tn_insertions_genome,75), ''])\n",
    "        Tn_Gap.append(['','','', ''])\n",
    "        Mean_Reads_PerTn.append(['Genome', 'Mean number of reads per transposon', np.nanmean(reads_per_tn_genome), ''])\n",
    "        Median_Reads_PerTn.append(['Genome', 'Median number of reads per transposon', np.nanmedian(reads_per_tn_genome), ''])\n",
    "        Reads_25th_percent.append(['Genome', '25th percentile reads per transposon', np.percentile(reads_per_tn_genome,25), ''])\n",
    "        Reads_75th_percent.append(['Genome', '75th percentile reads per transposon', np.percentile(reads_per_tn_genome,75), ''])\n",
    "\n",
    "    elif bed_file_counter == 1:\n",
    "        N_Tn_Ins[-1][-1] = number_tn_insertions_genome\n",
    "        Cov_Percent[-1][-1] = sum(number_tn_insertions_list)/sum(chr_length_dict.values())*100\n",
    "        Mean_Tn_Dist[-1][-1] = np.nanmean(bp_between_tn_insertions_genome)\n",
    "        Median_Tn_Dist[-1][-1] = np.nanmedian(bp_between_tn_insertions_genome)\n",
    "        Tn_Dist_25th_Percent[-1][-1] = np.percentile(bp_between_tn_insertions_genome,25)\n",
    "        Tn_Dist_75th_Percent[-1][-1] = np.percentile(bp_between_tn_insertions_genome,75)\n",
    "        Tn_Gap[-1][-1] = ''\n",
    "        Mean_Reads_PerTn[-1][-1] = np.nanmean(reads_per_tn_genome)\n",
    "        Median_Reads_PerTn[-1][-1] = np.nanmedian(reads_per_tn_genome)\n",
    "        Reads_25th_percent[-1][-1] = np.percentile(reads_per_tn_genome,25)\n",
    "        Reads_75th_percent[-1][-1] = np.percentile(reads_per_tn_genome,75)\n",
    "\n",
    "    bed_file_counter += 1"
   ]
  },
  {
   "cell_type": "markdown",
   "metadata": {},
   "source": [
    "### Creating text file\n",
    "\n",
    "Write the stored statistical value to the text file."
   ]
  },
  {
   "cell_type": "code",
   "execution_count": 11,
   "metadata": {},
   "outputs": [
    {
     "output_type": "stream",
     "name": "stdout",
     "text": "Writing to text file...\n...Writing complete.\n"
    }
   ],
   "source": [
    "print('Writing to text file...')\n",
    "\n",
    "header0 = ['chromosome','item','Dataset 1','Dataset 2']\n",
    "header  = ['          ','    ','         ','         ']\n",
    "\n",
    "with open(text_file,'a') as t:\n",
    "    for i in range(0,len(N_Tn_Ins)):\n",
    "        table = [N_Tn_Ins[i], Cov_Percent[i], Mean_Tn_Dist[i], Median_Tn_Dist[i], Tn_Dist_25th_Percent[i],\n",
    "                    Tn_Dist_75th_Percent[i], Tn_Gap[i], Mean_Reads_PerTn[i], Median_Reads_PerTn[i],\n",
    "                    Reads_25th_percent[i], Reads_75th_percent[i]]\n",
    "        if i == 0:\n",
    "            t.write(tabulate(table,tablefmt='github',headers=header0))\n",
    "        else:\n",
    "            t.write(tabulate(table,tablefmt='github',headers=header))\n",
    "        t.write('\\n')\n",
    "    print('...Writing complete.')"
   ]
  },
  {
   "cell_type": "markdown",
   "metadata": {},
   "source": [
    "### Printing result\n",
    "\n",
    "Showing part of the text file to give an example of the created text file.\n",
    "(This is just for showing the result in this notebook and is not important for the code itself.\n",
    "Can be removed)."
   ]
  },
  {
   "cell_type": "code",
   "execution_count": 17,
   "metadata": {
    "tags": [
     "outputPrepend"
    ]
   },
   "outputs": [
    {
     "output_type": "stream",
     "name": "stdout",
     "text": "Statistical values for datafile: Cerevisiae_WT2_Michel2017_trimmed1.bam.bed and Cerevisiae_WT2_Michel2017_trimmed2.bam.bed\n\n| chromosome   | item                                        |   Dataset 1 |   Dataset 2 |\n\n|--------------|---------------------------------------------|-------------|-------------|\n\n| I            | Number of transposon insertions             | 16437       | 16342       |\n\n| I            | Coverage percent                            |     7.13975 |     7.09849 |\n\n| I            | Mean distance between insertions            |    14.0052  |    14.0866  |\n\n| I            | Median distance between insertions          |     5       |     5       |\n\n| I            | 25th percentile distance between insertions |     2       |     2       |\n\n| I            | 75th percentile distance between insertions |    13       |    13       |\n\n| I            | Largest area devoid of transposons          |  1142       |  1142       |\n\n| I            | Mean number of reads per transposon         |    30.6532  |    30.8216  |\n\n| I            | Median number of reads per transposon       |     9       |     9       |\n\n| I            | 25th percentile reads per transposon        |     2       |     2       |\n\n| I            | 75th percentile reads per transposon        |    30       |    30       |\n\n|              |                                             |             |             |\n\n|--------------|---------------------------------------------|-------------|-------------|\n\n| II           | Number of transposon insertions             | 35907       | 35767       |\n\n| II           | Coverage percent                            |     4.41561 |     4.39839 |\n\n| II           | Mean distance between insertions            |    22.6463  |    22.735   |\n\n| II           | Median distance between insertions          |     7       |     7       |\n\n"
    }
   ],
   "source": [
    "with open(text_file) as t:\n",
    "    for i in range(0,20):\n",
    "        print(t.readline())"
   ]
  },
  {
   "cell_type": "markdown",
   "metadata": {},
   "source": [
    "## Interpretation\n",
    "\n",
    "The statistical values that are determined here for two datasets give an indication of some of the properties of the datasets.\n",
    "Together with the TransposonRead_Profile_Compare.py script, this can be helpful when comparing two datasets with each other to possibly improve the preprocessing steps.\n",
    "This script can relatively easy be extended with more statistical values in the future.\n",
    "\n",
    "The `Coverage percentage` is the number of transposons divided by the number of basepairs of the chromosome.\n",
    "The distance between transposon insertions is determined by the taking the absolute difference between all subsequent transposon and for the first and last transposon the distance is determined from the beginning and until the end of the chromosome, respectively.\n",
    "The same goes for the median and the percentiles.\n",
    "The largest distance between subsequent transposons is displayed as the largest area devoid of transposons.\n",
    "The values regarding the number of reads are directly extracted from the bed files."
   ]
  },
  {
   "cell_type": "markdown",
   "metadata": {},
   "source": [
    "## Bibliography\n",
    "- Michel, A. H., Hatakeyama, R., Kimmig, P., Arter, M., Peter, M., Matos, J., ... & Kornmann, B. (2017). Functional mapping of yeast genomes by saturated transposition. Elife, 6, e23570."
   ]
  }
 ],
 "metadata": {
  "language_info": {
   "codemirror_mode": {
    "name": "ipython",
    "version": 3
   },
   "file_extension": ".py",
   "mimetype": "text/x-python",
   "name": "python",
   "nbconvert_exporter": "python",
   "pygments_lexer": "ipython3",
   "version": "3.7.7-final"
  },
  "orig_nbformat": 2,
  "kernelspec": {
   "name": "python3",
   "display_name": "Python 3"
  }
 },
 "nbformat": 4,
 "nbformat_minor": 2
}