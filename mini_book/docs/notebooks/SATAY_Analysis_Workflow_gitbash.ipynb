{
 "cells": [
  {
   "cell_type": "markdown",
   "metadata": {},
   "source": [
    "# Workflow SATAY Analysis\n",
    "\n",
    "This is an example on how the workflow for SATAY analysis can be done using the commandline.\n",
    "A full description of the different programs and their options can be found at M/tnw/bn/ll/Shared/Gregory/Notes/ProjectNotes.docx.\n",
    "This workflow is based on Windows.\n",
    "However, some of the software is not available for Windows, so a virtual machine is created where a part of the workflow is completed.\n",
    "If wanted, it should be possible to complete the whole workflow in Linux (without using windows).\n",
    "In this case follow the same workflow and commands, just ignore everything that has to do with copying data to or from a shared folder.\n",
    "\n",
    "The command line arguments below are written to be used in git-bash (or similar command line tool).\n",
    "Running the same commands in the standard Windows command line can be troublesome.\n",
    "\n",
    "## Overview\n",
    "**Performed on Windows:**\n",
    "Sequencing results in FASTQ files that contains all the reads in random order.\n",
    "This needs to be checked and trimmed to remove low quality reads, adapter sequences etc.\n",
    "\n",
    "**Performed on Linux Virtual Machine:**\n",
    "After trimming the data needs to be aligned to a reference sequence.\n",
    "If using the reference sequence for the first time, it is necessary to index this sequence.\n",
    "This results in a SAM file that includes all the reads including where they are mapped to the reference sequence and the mapping quality.\n",
    "The SAM file needs to be converted to its binary equivalent BAM file which is then index as well.\n",
    "\n",
    "**Performed on Windows:**\n",
    "After alignment the BAM file can be used for visualization using IGV.\n",
    "Also this BAM file is the input for the Matlab code (created by the Kornmann lab) for counting the number of reads and transposon insertions per gene.\n",
    "\n",
    "\n",
    "## Tips on using this notebook\n",
    "The Initialization sections contain variables that need to be set manually.\n",
    "This includes names of the files to be used, paths to these files and paths to directories where the results need to be stored.\n",
    "Once this is set, the other commands should be able to simply be copy-pasted in the terminal and they should work.\n",
    "\n",
    "For detailed information about the different programs, look at the SATAY_Analysis_notes.docx file."
   ],
   "execution_count": null,
   "outputs": []
  },
  {
   "cell_type": "markdown",
   "metadata": {},
   "source": [
    "## Initializing\n",
    "For easier use, variables can be used for setting paths and file names.\n",
    "To set this up, enter the following command:"
   ],
   "execution_count": null,
   "outputs": []
  },
  {
   "cell_type": "code",
   "execution_count": null,
   "metadata": {},
   "outputs": [],
   "source": [
    "#!/bin/bash\n"
   ]
  },
  {
   "cell_type": "markdown",
   "metadata": {},
   "source": [
    "Define all paths and file names.\n",
    "These are\n",
    "\n",
    "1. pathdata: Path to the FASTQ file where also all results will be stored.\n",
    "2. filename: Name of the FASTQ file to be analyzed. This can be left uncompressed (i.e. with the extension .fastq.gz)\n",
    "\n",
    "3. path_sharedfolder: Use this to copy the needed files to a shared folder for the virtual machine (leave empty or type 'None' if not needed).\n",
    "\n",
    "The next two commands are for calling the fastq and trimmomatic programs. Enter here the paths as you would use to call the programs in the command line.\n",
    "\n",
    "4. path_fastqc: Path to the location where the Fastqc program is saved.\n",
    "5. path_trimmomatic: Path to the location where the Trimmomatic program is saved.\n",
    "\n",
    "The last two commands are for the file containing the reference sequence.\n",
    "\n",
    "6. Path_reference: Path to the reference sequence, typically stored as a fasta file.\n",
    "7. file_reference: Name of the file containing the reference sequence.\n",
    "This is needed for copying the refence to the shared folder for using it in the Virtual Linux Machine.\n",
    "If a reference is already stored in the Virtual Linux Machine, than this variable can be left empty."
   ],
   "execution_count": null,
   "outputs": []
  },
  {
   "cell_type": "code",
   "execution_count": null,
   "metadata": {},
   "outputs": [],
   "source": [
    "pathname='N:\\tnw\\BN\\LL\\Shared\\Gregory\\Sequence_Alignment_TestData\\temp_test_Michel_WT1\\'\n",
    "filename='SRR062634.filt.fastq.gz'\n",
    "\n",
    "\n",
    "path_sharedfolder=\"/C/Users/gregoryvanbeek/VirtualBox VMs/VM_SharedFolder_Ubuntu64_Large/\"\n",
    "\n",
    "\n",
    "path_fastqc='/C/Programs/FastQC/'\n",
    "path_trimmomatic='/C/Programs/Trimmomatic-0.39/'\n",
    "\n",
    "\n",
    "path_reference='N:\\tnw\\BN\\LL\\Shared\\Gregory\\Reference_Genome_Cerevisiae\\Cerevisiae_S288C_RefR64-2-1\\'\n",
    "file_reference='S288C_reference_sequence_R64-2-1_20150113.fsa'\n"
   ]
  },
  {
   "cell_type": "markdown",
   "metadata": {},
   "source": [
    "## Make directories\n",
    "\n",
    "Create all the necessary directories within the directory specified in the 'pathdata' variable.\n",
    "To make folders with clear names, the extension is removed from the file name.\n",
    "If the file ends with something else than .gz and/or .fastq, change the commands below accordingly."
   ],
   "execution_count": null,
   "outputs": []
  },
  {
   "cell_type": "code",
   "execution_count": null,
   "metadata": {},
   "outputs": [],
   "source": [
    "filename_without_extension=${filename//.gz}\n",
    "filename_without_extension=${filename_without_extension//.fastq}\n",
    "\n",
    "mkdir ${pathname}${filename_without_extension}_QC\n",
    "path_qc=${pathname}${filename_without_extension}'_QC\\'\n",
    "mkdir ${pathname}${filename_without_extension}_Trimmed\n",
    "path_trimmed=${pathname}${filename_without_extension}'_Trimmed\\'\n",
    "mkdir ${pathname}${filename_without_extension}_Aligned\n",
    "path_aligned=${pathname}${filename_without_extension}'_Aligned\\'\n"
   ]
  },
  {
   "cell_type": "markdown",
   "metadata": {},
   "source": [
    "## Backup and uncompress data\n",
    "\n",
    "Make a backup of the fastq file and if it needs to be unzipped."
   ],
   "execution_count": null,
   "outputs": []
  },
  {
   "cell_type": "code",
   "execution_count": null,
   "metadata": {},
   "outputs": [],
   "source": [
    "filepath=${pathname}${filename}\n",
    "filepath_backup=${pathname}'Backup_'${filename}\n",
    "\n",
    "\n",
    "cp ${filepath} ${filepath_backup}\n",
    "chmod -w ${filepath_backup}\n",
    "\n",
    "\n",
    "if [ ${filepath: -3} == '.gz' ]; then gunzip ${filepath}; fi\n",
    "filepath=${pathname}${filename//.gz}\n"
   ]
  },
  {
   "cell_type": "markdown",
   "metadata": {},
   "source": [
    "## Fastqc\n",
    "\n",
    "Open Fastqc for checking the quality of the sequencing results.\n",
    "The input is the fastq file and output is stored in the _QC-folder.\n",
    "(This can take a few minutes to run).\n",
    "Use the 'start' command to checking the quality report."
   ],
   "execution_count": null,
   "outputs": []
  },
  {
   "cell_type": "code",
   "execution_count": null,
   "metadata": {},
   "outputs": [],
   "source": [
    "${path_fastqc}'fastqc' --outdir ${path_qc} ${filepath} --extract\n",
    "\n",
    "start ${path_qc}${filename_without_extension}'_fastqc.html'"
   ]
  },
  {
   "cell_type": "markdown",
   "metadata": {},
   "source": [
    "## Trimmomatic\n",
    "\n",
    "Open Trimmomatic to trim the sequencing results.\n",
    "The input the fastq file and the output is a fastq file with the trimmed reads.\n",
    "For trimming, adapter sequences might be needed that have to be stored at the same location where the fastq file is stored.\n",
    "Some standard adapter sequences are stored in the 'adapter' directory within of Trimmomatic.\n",
    "These can be copied to the directory where the fastq file is stored.\n",
    "If wanted, custom adapter sequences can be stored in the form of a .fasta file.\n",
    "In this case 'adapter_file' might need to be changed."
   ],
   "execution_count": null,
   "outputs": []
  },
  {
   "cell_type": "code",
   "execution_count": null,
   "metadata": {},
   "outputs": [],
   "source": [
    "adapter_file='TruSeq3-SE.fa'\n",
    "cp ${path_trimmomatic}'adapters\\'${adapter_file} ${pathname}${adapter_file}\n",
    "\n",
    "\n",
    "java -jar ${path_trimmomatic}'trimmomatic.jar' SE -phred33 ${filepath} ${path_trimmed}${filename_without_extension}'_Trimmed.fastq' ILLUMINACLIP:${adapter_file}:2:15:30:8 SLIDINGWINDOW:5:20 TRAILING:10\n"
   ]
  },
  {
   "cell_type": "markdown",
   "metadata": {},
   "source": [
    "## Fastqc on trimmed data\n",
    "\n",
    "Redo the Fastqc quality check on the trimmed data to see if the quality improved as expected.\n",
    "The results are stored in the _QC folder."
   ],
   "execution_count": null,
   "outputs": []
  },
  {
   "cell_type": "code",
   "execution_count": null,
   "metadata": {},
   "outputs": [],
   "source": [
    "${path_fastqc}'fastqc' --outdir ${path_qc} ${path_trimmed}${filename_without_extension}'_Trimmed.fastq' --extract\n",
    "trimmed_filename=${filename_without_extension}'_Trimmed.fastq'\n",
    "\n",
    "start ${path_qc}${filename_without_extension}'_Trimmed_fastqc.html'"
   ]
  },
  {
   "cell_type": "markdown",
   "metadata": {},
   "source": [
    "## Copy results to shared folder\n",
    "\n",
    "The results are copied to the shared folder for continuing in the Virtual Linux Environment."
   ],
   "execution_count": null,
   "outputs": []
  },
  {
   "cell_type": "code",
   "execution_count": null,
   "metadata": {},
   "outputs": [],
   "source": [
    "cp ${path_trimmed}${trimmed_filename} \"${path_sharedfolder}\"${trimmed_filename}\n",
    "\n",
    "cp ${path_reference}${file_reference} \"${path_sharedfolder}\"${file_reference}"
   ]
  },
  {
   "cell_type": "markdown",
   "metadata": {},
   "source": [
    "## Initializing and setting up Linux terminal\n",
    "\n",
    "Since now the process continues on a Linux machine, the terminal on the Linux machine needs to be initialized, similarly to what is done in Windows."
   ],
   "execution_count": null,
   "outputs": []
  },
  {
   "cell_type": "code",
   "execution_count": null,
   "metadata": {},
   "outputs": [],
   "source": [
    "#!/bin/bash\n",
    "path_sharedfolder_vm='/media/sf_VM_sharedFolder_Ubuntu64_Large/'\n",
    "\n",
    "trimmed_filename_vm='SRR062634.filt_Trimmed.fastq'\n",
    "\n",
    "path_reference_vm='~/Documents/Reference_Genomes/Reference_Sequence_CerevisiaeS288C/'\n",
    "file_reference_vm='S288C_reference_sequence_R64-2-1_20150113.fsa'\n",
    "\n",
    "path_datafolder_vm = '~/Documents/Michel2017_WT1/'\n"
   ]
  },
  {
   "cell_type": "markdown",
   "metadata": {},
   "source": [
    "## Index reference sequence\n",
    "\n",
    "In case this is not already done before, create a directionary for the reference sequence and index the reference.\n",
    "This only has to be done once for each reference sequence."
   ],
   "execution_count": null,
   "outputs": []
  },
  {
   "cell_type": "code",
   "execution_count": null,
   "metadata": {},
   "outputs": [],
   "source": [
    "mkdir ${path_refence_vm}\n",
    "\n",
    "cp ${path_sharedfolder_vm}${file_reference_vm} ${path_reference_vm}${file_reference_vm}\n",
    "\n",
    "bwa index ${path_reference_vm}${file_reference_vm}\n"
   ]
  },
  {
   "cell_type": "markdown",
   "metadata": {},
   "source": [
    "## Perform alignment\n",
    "\n",
    "Align the sequence with respect to the reference sequence.\n",
    "The aligned file needs to have the '.sam' extension.\n",
    "The inputs of the bwa mem funtion are the scores and penalties used for aligning the reads.\n",
    "These are respectively\n",
    "* A: matching score (default=1)\n",
    "* B: mismatch score (default=4)\n",
    "* O: gap open penalty (default=6)\n",
    "* E: gap extension penalty (default=1)\n",
    "* U: penalty for unpaired reads in case of paired end data (default=9)"
   ],
   "execution_count": null,
   "outputs": []
  },
  {
   "cell_type": "code",
   "execution_count": null,
   "metadata": {},
   "outputs": [],
   "source": [
    "mkdir ${path_datafolder_vm}\n",
    "path_datafolder_vm_aligned=${path_datafolder_vm}'AlignmentOutput/'\n",
    "mkdir path_datafolder_vm_aligned\n",
    "\n",
    "cp ${path_sharedfolder_vm}${trimmed_filename_vm} ${path_datafolder_vm}${trimmed_filename_vm}\n",
    "\n",
    "bwa mem -A 1 -B 4 -O 6 -E 1 ${path_reference_vm}${file_reference_vm} ${path_datafolder_vm}${trimmed_filename_vm} > ${path_datafolder_vm_aligned}'Aligned_'${trimmed_filename_vm}'.sam'\n"
   ]
  },
  {
   "cell_type": "markdown",
   "metadata": {},
   "source": [
    "## Converting SAM to BAM files\n",
    "The human readable SAM file needs to be converted to the binary BAM file for downstream analysis.\n",
    "Also, the BAM file needs to be indexed like what was done for the reference sequence."
   ],
   "execution_count": null,
   "outputs": []
  },
  {
   "cell_type": "code",
   "execution_count": null,
   "metadata": {},
   "outputs": [],
   "source": [
    "samtools view -b ${path_datafolder_vm_aligned}'Aligned_'${trimmed_filename_vm}'.sam' > ${path_datafolder_vm_aligned}'Aligned_'${trimmed_filename_vm}'.bam'\n",
    "\n",
    "sambamba-0.7.1 sort -m 500MB ${path_datafolder_vm_aligned}'Aligned_'${trimmed_filename_vm}'.bam'\n",
    "sambamba-0.7.1 index ${path_datafolder_vm_aligned}'Aligned_'${trimmed_filename_vm}'.bam'\n"
   ]
  },
  {
   "cell_type": "markdown",
   "metadata": {},
   "source": [
    "## Copying results to shared folder for continuing on Windows machine\n",
    "The results folder should now contain the following files:\n",
    "* .sam\n",
    "* .bam\n",
    "* .sorted.bam\n",
    "* .bam.bai"
   ]
  },
  {
   "cell_type": "code",
   "execution_count": null,
   "metadata": {},
   "outputs": [],
   "source": [
    "cp ${path_datafolder_vm_aligned}'Aligned_'${trimmed_filename_vm}'.*' ${path_sharedfolder_vm}\n"
   ]
  },
  {
   "cell_type": "markdown",
   "metadata": {},
   "source": [
    "## Copying on Windows machine and make backup\n",
    "\n",
    "This uses some of the variables that we initialized in the beginning of the workflow."
   ]
  },
  {
   "cell_type": "code",
   "execution_count": null,
   "metadata": {},
   "outputs": [],
   "source": [
    "aligned_filenames='Aligned_'${trimmed_filename}\n",
    "cp \"${path_sharedfolder}\"${aligned_filenames}'.*' ${path_aligned}\n",
    "\n",
    "sam_filename=${aligned_filenames}'.sam'\n",
    "cp ${path_aligned}${sam_filename} ${path_aligned}'Backup_'${sam_filename}\n",
    "chmod -w ${path_aligned}'Backup_'${sam_filename}\n"
   ]
  },
  {
   "cell_type": "markdown",
   "metadata": {},
   "source": [
    "## Visualizing .sorted.bam in IGV viewer\n",
    "Open the IGV viewer and use the field ‘genomes’ > ‘Load genome from file’ to enter a reference sequence (e.g. .fasta). Use the field ‘File’ > ‘Load from file’ to enter a .sorted.bam file (the folder where this file is located should also contain the .bam.bai file). It might be necessary to zoom in quite a bit in order to the reads and any potential differences with respect to the reference sequence (indicated with letters). If a specific locus or gene needs to be visualized, then the header in the top of the screen can be used. An example of an input would be chr1:335-649. Note that the name of the chromosome can be different. This is typically given in the header of the .sam file (e.g. ref|NC_001133| instead of chr.1). To get the locations of known genes, use the .gff file that comes with downloading the reference sequence.\n"
   ]
  },
  {
   "cell_type": "markdown",
   "metadata": {},
   "source": [
    "## Transposon count using Matlab code Benoit\n",
    "Open the Matlab code from Benoit and run the code. It will ask to open a .bam file. Load the aligned and sorted bam file. The program runs for quite a while and creates a number of output files that are stored in the same folder as where the bam file is located.\n"
   ]
  }
 ],
 "metadata": {
  "kernelspec": {
   "display_name": "Python 3",
   "language": "python",
   "name": "python3"
  },
  "language_info": {
   "codemirror_mode": {
    "name": "ipython",
    "version": 3
   },
   "file_extension": ".py",
   "mimetype": "text/x-python",
   "name": "python",
   "nbconvert_exporter": "python",
   "pygments_lexer": "ipython3",
   "version": "3.7.3-final"
  }
 },
 "nbformat": 4,
 "nbformat_minor": 2
}