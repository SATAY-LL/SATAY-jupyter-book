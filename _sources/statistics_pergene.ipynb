{
 "cells": [
  {
   "cell_type": "markdown",
   "metadata": {},
   "source": [
    "# Statistics per gene"
   ]
  },
  {
   "cell_type": "markdown",
   "metadata": {},
   "source": [
    "## The python script\n",
    "This code determines statistics based on the results obtained in the _pergene.txt file by the Matlab code provided by the Kornmann lab.\n",
    "The _pergene.txt file consists of three columns.\n",
    "The rows in the first column contains all genes of * S.Cerevisiae*, the corresponding transposon count is stored in the second column and the third column contains the reads.\n",
    "\n",
    "The genes in this file are split into two groups based on their essentiality.\n",
    "This is determined using two files that contains all known essential genes.\n",
    "\n",
    "The data is represented as a violinplot where both the essential and non-essential genes are shown.\n",
    "\n",
    "Some basic statistics are determined here, but this can be extended with more if needed."
   ]
  },
  {
   "cell_type": "markdown",
   "metadata": {},
   "source": [
    "### Input\n",
    "\n",
    "Data that needs to be loaded:\n",
    "\n",
    "1. filepath: Path to the output text file the Matlab code of Benoit that includes the read and transposon count per gene (with extension _pergene.txt)\n",
    "2. filename: Name of this file.\n",
    "3. normalize: Whether or not to normalize the transposon and read counts to the gene lengths (True or False)\n",
    "4. essential_genes_files: List of essential genes. Can be input as multiple files which will be automatically merged.\n",
    "5. gene_information_file: List of genes with their possible aliasses and lengths in amino acids."
   ]
  },
  {
   "cell_type": "code",
   "execution_count": 1,
   "metadata": {
    "execution": {
     "iopub.execute_input": "2020-06-17T08:22:21.651727Z",
     "iopub.status.busy": "2020-06-17T08:22:21.651259Z",
     "iopub.status.idle": "2020-06-17T08:22:22.369139Z",
     "shell.execute_reply": "2020-06-17T08:22:22.369586Z"
    }
   },
   "outputs": [],
   "source": [
    "import os\n",
    "import numpy as np\n",
    "import matplotlib.pyplot as plt\n",
    "import pandas as pd\n",
    "import seaborn as sns"
   ]
  },
  {
   "cell_type": "code",
   "execution_count": 2,
   "metadata": {
    "execution": {
     "iopub.execute_input": "2020-06-17T08:22:22.375882Z",
     "iopub.status.busy": "2020-06-17T08:22:22.375168Z",
     "iopub.status.idle": "2020-06-17T08:22:22.379615Z",
     "shell.execute_reply": "2020-06-17T08:22:22.378667Z"
    }
   },
   "outputs": [],
   "source": [
    "file_dirname = os.path.dirname('__file__')\n",
    "# sys.path.insert(1,os.path.join(file_dirname,'python_modules'))\n",
    "# os.chdir('mini_book/docs/Python_scripts/python_modules/')\n",
    "\n",
    "filepath = os.path.join(file_dirname,'satay_analysis_testdata','Output_Processing')\n",
    "filename = \"Cerevisiae_WT2_Michel2017_trimmed1.bam_pergene.txt\" # CHANGE THIS TO ANY FILE YOU WANT TO ANALYSE.\n",
    "normalize = 'True'\n",
    "\n",
    "essential_genes_files = [os.path.join(file_dirname,'Python_scripts','Data_Files','Cervisiae_EssentialGenes_List_1.txt'),\n",
    "                        os.path.join(file_dirname,'Python_scripts','Data_Files','Cervisiae_EssentialGenes_List_2.txt')]\n",
    "\n",
    "gene_information_file = os.path.join(file_dirname,'Python_scripts','Data_Files','Yeast_Protein_Names.txt')\n",
    "# os.chdir('mini_book/docs/Python_scripts/')"
   ]
  },
  {
   "cell_type": "markdown",
   "metadata": {},
   "source": [
    "### Create list of all essential genes\n",
    "This can be input from multiple files given in the `essential_genes_files` variable that are merged in one list."
   ]
  },
  {
   "cell_type": "code",
   "execution_count": 3,
   "metadata": {
    "execution": {
     "iopub.execute_input": "2020-06-17T08:22:22.384659Z",
     "iopub.status.busy": "2020-06-17T08:22:22.383763Z",
     "iopub.status.idle": "2020-06-17T08:22:22.388139Z",
     "shell.execute_reply": "2020-06-17T08:22:22.387319Z"
    }
   },
   "outputs": [],
   "source": [
    "known_essential_gene_list = []\n",
    "\n",
    "for files in essential_genes_files:\n",
    "    with open(files) as f:\n",
    "        for header_lines in range(3):\n",
    "            next(f)\n",
    "        for lines in f:\n",
    "            known_essential_gene_list.append(lines.rstrip('\\n'))"
   ]
  },
  {
   "cell_type": "markdown",
   "metadata": {},
   "source": [
    "### Create a dictionary with length all genes\n",
    "Dictionary consists of keys which are all genes (including all their potential aliasses and different naming conventions) and of values which are the length in terms of base pairs.\n",
    "The number of base pairs is calculated by multiplying the number of amino acids by 3."
   ]
  },
  {
   "cell_type": "code",
   "execution_count": 4,
   "metadata": {
    "execution": {
     "iopub.execute_input": "2020-06-17T08:22:22.396884Z",
     "iopub.status.busy": "2020-06-17T08:22:22.396041Z",
     "iopub.status.idle": "2020-06-17T08:22:22.425789Z",
     "shell.execute_reply": "2020-06-17T08:22:22.426459Z"
    }
   },
   "outputs": [],
   "source": [
    "# CREATE A DICTIONARY WITH ALL GENES (BOTH THE COMMON NAME AND THEIR SYSTEMATIC NAME) AND SAVE THEM WITH THEIR RESPECTIVE LENGHTS (IN TERMS OF BP WHICH IS DEFINED AS bp=aa*3)\n",
    "gene_length_dict = {}\n",
    "with open(gene_information_file) as f:\n",
    "    lines = f.readlines()\n",
    "\n",
    "# THE GENES START AT LINE 58 AND STOP 6 LINES BEFORE THE END OF THE FILE.\n",
    "    for i in range(58,len(lines)-6):\n",
    "        n=0\n",
    "        l = lines[i]\n",
    "\n",
    "# COUNT HOW MANY TIMES ';' OCCURS IN A LINE.\n",
    "        extra_columns = l.count(';')\n",
    "        l_short = ' '.join(l.split())\n",
    "        l_list = l_short.split(' ')\n",
    "\n",
    "# IGNORE SEQUENCES THAT ARE NOT NEEDED.\n",
    "        if l_list[1+extra_columns] == 'GAG' or l_list[1+extra_columns] == 'POL':\n",
    "            extra_columns = extra_columns + 1\n",
    "\n",
    "# DETERMINE GENE LENGTH AND STORE WITH THE CORRESPONDING GENE NAME (e.g. Cdc42)\n",
    "        gene_length_dict[l_list[0].strip(';')] = int(l_list[5+extra_columns])*3\n",
    "\n",
    "# DETERMINE GENE LENGTH AND STORE WITH THE CORRESPONDING GENE SYSTEMATIC NAME (e.g. YLR229C)\n",
    "        gene_length_dict[l_list[1+extra_columns]] = int(l_list[5+extra_columns])*3\n",
    "\n",
    "# DETERMINE GENE LENGTH AND STORE WITH THE CORRESPONDING GENE ALIASES (IF PRESENT).\n",
    "        if extra_columns > 0:\n",
    "            for n in range(extra_columns+1):\n",
    "                gene_length_dict[l_list[0+n].strip(';')] = int(l_list[5+extra_columns])*3"
   ]
  },
  {
   "cell_type": "markdown",
   "metadata": {},
   "source": [
    "### Create lists with information to be plotted\n",
    "Lists are made for\n",
    "\n",
    "1. Gene names\n",
    "2. Reads per gene \n",
    "3. Transposons per gene \n",
    "4. Whether or not a gene is essential or not (contains only True and False statements)\n",
    "5. Reads per gene normalized to the length of each gene in terms of base pairs\n",
    "6. Transposons per gene normalized to the length of each gene in terms of base pairs\n",
    "\n",
    "The gene_counter counts the number of genes included in the analysis. The fail_counter are the number of genes that are present in the data, but could be found in the list of gene lengths and could therefore not be normalized. These genes are ignored. This should not be much more than 0.5% of the total amount of genes."
   ]
  },
  {
   "cell_type": "code",
   "execution_count": 5,
   "metadata": {
    "execution": {
     "iopub.execute_input": "2020-06-17T08:22:22.431718Z",
     "iopub.status.busy": "2020-06-17T08:22:22.431167Z",
     "iopub.status.idle": "2020-06-17T08:22:22.434731Z",
     "shell.execute_reply": "2020-06-17T08:22:22.435164Z"
    }
   },
   "outputs": [],
   "source": [
    "file = os.path.join(filepath,filename)\n",
    "\n",
    "with open(file) as f:\n",
    "    lines = f.readlines()"
   ]
  },
  {
   "cell_type": "code",
   "execution_count": 6,
   "metadata": {
    "execution": {
     "iopub.execute_input": "2020-06-17T08:22:22.443520Z",
     "iopub.status.busy": "2020-06-17T08:22:22.437445Z",
     "iopub.status.idle": "2020-06-17T08:22:22.608947Z",
     "shell.execute_reply": "2020-06-17T08:22:22.609355Z"
    },
    "tags": [
     "outputPrepend"
    ]
   },
   "outputs": [
    {
     "name": "stdout",
     "output_type": "stream",
     "text": [
      "Number of genes analyzed:  6586\n",
      "Number of genes not found: 17 (0.26 percent) \n",
      "Genes not found:  ['COX26', 'ARG5', 'COM2', 'ADE5', 'MF', 'CIA2', 'KCH1', 'FAT3', 'INA1', 'EPO1', 'ERG29', 'SPR2', 'BIL1', 'TFB6', 'PBI1', 'MF', 'NVJ2']\n"
     ]
    }
   ],
   "source": [
    "gene_name_list = [] # LIST OF ALL GENES ANALYZED AND OUTPUT BY THE MATLAB CODE OF BENOIT.\n",
    "reads_pergene_list = [] # NUMBER OF READS PER GENE AS DETERMINED BY THE MATLAB CODE OF BENOIT.\n",
    "tn_pergene_list = [] # NUMBER OF TRANSPOSONS PER GENE AS DETERMINED BY THE MATLAB CODE OF BENOIT.\n",
    "gene_essential_boolean_list = [] # WHICH OF THE GENES ANALYZED ARE ESSENTIAL (MARKED AS TRUE) AND NON ESSENTIAL (MARKED AS FALSE)\n",
    "reads_pergene_norm_list = [] # NUMBER OF READS PER GENE AS DETERMINED BY THE MATLAB CODE OF BENOIT NORMALIZED FOR THE LENGTH OF THE GENES IN TERMS OF BASEPAIRS.\n",
    "tn_pergene_norm_list = [] # NUMBER OF TRANSPOSONS PER GENE AS DETERMINED BY THE MATLAB CODE OF BENOIT NORMALIZED FOR THE LENGTH OF THE GENES IN TERMS OF BASEPAIRS.\n",
    "\n",
    "gene_counter = 0\n",
    "fail_counter = 0\n",
    "failed_genes_list = []\n",
    "for line in lines[1:]:\n",
    "    split_line = line.split('\\t')\n",
    "    gene_name = split_line[0].rstrip()\n",
    "\n",
    "\n",
    "    if len(split_line) > 1:\n",
    "        tn_pergene = int(split_line[1])\n",
    "    else:\n",
    "        tn_pergene = np.nan\n",
    "\n",
    "\n",
    "    if len(split_line) > 2:\n",
    "        reads_pergene = int(split_line[2])\n",
    "    else:\n",
    "        reads_pergene = np.nan\n",
    "\n",
    "    reads_pergene_list.append(reads_pergene)\n",
    "    tn_pergene_list.append(tn_pergene)\n",
    "\n",
    "\n",
    "#!!! GENES WITH ALIASES ARE COUNTED DOUBLE IF ONE OR MORE ALIASES ARE PRESENT IN THE ESSENTIAL GENES LIST !!!\n",
    "    if normalize == False:\n",
    "        if gene_name in known_essential_gene_list:\n",
    "            gene_essential_boolean_list.append(True) \n",
    "        else:\n",
    "            gene_essential_boolean_list.append(False)\n",
    "        gene_name_list.append(gene_name)\n",
    "\n",
    "    else:\n",
    "        gene_length = gene_length_dict.get(gene_name)\n",
    "        try:\n",
    "            reads_pergene_norm_list.append(reads_pergene/gene_length)\n",
    "            tn_pergene_norm_list.append(tn_pergene/gene_length)\n",
    "\n",
    "            if gene_name in known_essential_gene_list:\n",
    "                gene_essential_boolean_list.append(True) \n",
    "            else:\n",
    "                gene_essential_boolean_list.append(False)\n",
    "            gene_name_list.append(gene_name)\n",
    "\n",
    "            gene_counter = gene_counter + 1\n",
    "        except:\n",
    "            fail_counter = fail_counter + 1\n",
    "            failed_genes_list.append(gene_name)\n",
    "\n",
    "print('Number of genes analyzed: ',gene_counter)\n",
    "print('Number of genes not found: %.0f (%.2f percent) '% (fail_counter, fail_counter/(gene_counter+fail_counter)*100))\n",
    "print('Genes not found: ',failed_genes_list)"
   ]
  },
  {
   "cell_type": "markdown",
   "metadata": {},
   "source": [
    "### Create dataframe\n",
    "This puts the data in the form of a dataframe (part of the `pandas` package). This is necessary for plotting."
   ]
  },
  {
   "cell_type": "code",
   "execution_count": 7,
   "metadata": {
    "execution": {
     "iopub.execute_input": "2020-06-17T08:22:22.620416Z",
     "iopub.status.busy": "2020-06-17T08:22:22.619716Z",
     "iopub.status.idle": "2020-06-17T08:22:22.624592Z",
     "shell.execute_reply": "2020-06-17T08:22:22.623696Z"
    }
   },
   "outputs": [],
   "source": [
    "if normalize == False:\n",
    "    genes = {'Gene_name': gene_name_list,\n",
    "            'Transposons_per_gene': tn_pergene_list,\n",
    "            'Reads_per_gene': reads_pergene_list,\n",
    "            'Essential_gene': gene_essential_boolean_list\n",
    "            }\n",
    "    df = pd.DataFrame(genes,columns=['Gene_name','Transposons_per_gene','Reads_per_gene', 'Essential_gene'])\n",
    "else:\n",
    "    genes = {'Gene_name': gene_name_list,\n",
    "            'Transposon_density_per_gene': tn_pergene_norm_list,\n",
    "            'Read_density_per_gene': reads_pergene_norm_list,\n",
    "            'Essential_gene': gene_essential_boolean_list\n",
    "            }\n",
    "    df = pd.DataFrame(genes,columns=['Gene_name','Transposon_density_per_gene','Read_density_per_gene', 'Essential_gene'])"
   ]
  },
  {
   "cell_type": "markdown",
   "metadata": {},
   "source": [
    "### Print statistics"
   ]
  },
  {
   "cell_type": "code",
   "execution_count": 8,
   "metadata": {
    "execution": {
     "iopub.execute_input": "2020-06-17T08:22:22.637021Z",
     "iopub.status.busy": "2020-06-17T08:22:22.635796Z",
     "iopub.status.idle": "2020-06-17T08:22:22.658273Z",
     "shell.execute_reply": "2020-06-17T08:22:22.657434Z"
    }
   },
   "outputs": [
    {
     "name": "stdout",
     "output_type": "stream",
     "text": [
      "Average number of reads all genes: 2235 \n",
      "Median number of reads all genes: 767 \n",
      "Standard Deviation number of reads all genes: 7935 \n",
      "\n",
      "Average number of transposons all genes: 74 \n",
      "Median number of transposons all genes: 43 \n",
      "Standard Deviation number of transposons all genes: 100 \n",
      "\n",
      "\n",
      "Average number of reads of essential genes: 2747 \n",
      "Median number of reads of essential genes: 794 \n",
      "Maximum number of reads of essential genes: 158981 \n",
      "Minimum number of reads of essential genes: 0 \n",
      "\n",
      "Average number of reads of nonessential genes: 2125 \n",
      "Median number of reads of nonessential genes: 761 \n",
      "Maximum number of reads of nonessential genes: 154652 \n",
      "Minimum number of reads of nonessential genes: 0 \n",
      "\n",
      "\n",
      "Average number of transposons of essential genes: 82 \n",
      "Median number of transposons of essential genes: 46 \n",
      "Standard deviation number of transposons of essential genes: 112 \n",
      "Maximum number of transposons of essential genes: 867 \n",
      "Minimum number of transposons of essential genes: 0 \n",
      "\n",
      "Average number of transposons of nonessential genes: 73 \n",
      "Median number of transposons of nonessential genes: 43 \n",
      "Standard deviation number of transposons of nonessential genes: 97 \n",
      "Maximum number of transposons of nonessential genes: 1315 \n",
      "Minimum number of transposons of nonessential genes: 0 \n",
      "\n"
     ]
    }
   ],
   "source": [
    "print('Average number of reads all genes: %.0f ' % np.nanmean(reads_pergene_list))\n",
    "print('Median number of reads all genes: %.0f ' % np.nanmedian(reads_pergene_list))\n",
    "print('Standard Deviation number of reads all genes: %.0f ' % np.nanstd(reads_pergene_list))\n",
    "print('')\n",
    "\n",
    "print('Average number of transposons all genes: %.0f ' % np.nanmean(tn_pergene_list))\n",
    "print('Median number of transposons all genes: %.0f ' % np.nanmedian(tn_pergene_list))\n",
    "print('Standard Deviation number of transposons all genes: %.0f ' % np.nanstd(tn_pergene_list))\n",
    "print('')\n",
    "print('')\n",
    "\n",
    "\n",
    "\n",
    "indices_essential_genes_list = [i for i, x in enumerate(gene_essential_boolean_list) if x == True]\n",
    "reads_peressentialgene_list = [reads_pergene_list[i] for i in indices_essential_genes_list]\n",
    "print('Average number of reads of essential genes: %.0f ' % np.nanmean(reads_peressentialgene_list))\n",
    "print('Median number of reads of essential genes: %.0f ' % np.nanmedian(reads_peressentialgene_list))\n",
    "print('Maximum number of reads of essential genes: %.0f ' % np.nanmax(reads_peressentialgene_list))\n",
    "print('Minimum number of reads of essential genes: %.0f ' % np.nanmin(reads_peressentialgene_list))\n",
    "print('')\n",
    "\n",
    "indices_nonessential_genes_list = [i for i, x in enumerate(gene_essential_boolean_list) if x == False]\n",
    "reads_pernonessentialgene_list = [reads_pergene_list[i] for i in indices_nonessential_genes_list]\n",
    "print('Average number of reads of nonessential genes: %.0f ' % np.nanmean(reads_pernonessentialgene_list))\n",
    "print('Median number of reads of nonessential genes: %.0f ' % np.nanmedian(reads_pernonessentialgene_list))\n",
    "print('Maximum number of reads of nonessential genes: %.0f ' % np.nanmax(reads_pernonessentialgene_list))\n",
    "print('Minimum number of reads of nonessential genes: %.0f ' % np.nanmin(reads_pernonessentialgene_list))\n",
    "print('')\n",
    "print('')\n",
    "\n",
    "\n",
    "\n",
    "tn_peressentialgene_list = [tn_pergene_list[i] for i in indices_essential_genes_list]\n",
    "print('Average number of transposons of essential genes: %.0f ' % np.nanmean(tn_peressentialgene_list))\n",
    "print('Median number of transposons of essential genes: %.0f ' % np.nanmedian(tn_peressentialgene_list))\n",
    "print('Standard deviation number of transposons of essential genes: %.0f ' % np.nanstd(tn_peressentialgene_list))\n",
    "print('Maximum number of transposons of essential genes: %.0f ' % np.nanmax(tn_peressentialgene_list))\n",
    "print('Minimum number of transposons of essential genes: %.0f ' % np.nanmin(tn_peressentialgene_list))\n",
    "print('')\n",
    "\n",
    "tn_pernonessentialgene_list = [tn_pergene_list[i] for i in indices_nonessential_genes_list]\n",
    "print('Average number of transposons of nonessential genes: %.0f ' % np.nanmean(tn_pernonessentialgene_list))\n",
    "print('Median number of transposons of nonessential genes: %.0f ' % np.nanmedian(tn_pernonessentialgene_list))\n",
    "print('Standard deviation number of transposons of nonessential genes: %.0f ' % np.nanstd(tn_pernonessentialgene_list))\n",
    "print('Maximum number of transposons of nonessential genes: %.0f ' % np.nanmax(tn_pernonessentialgene_list))\n",
    "print('Minimum number of transposons of nonessential genes: %.0f ' % np.nanmin(tn_pernonessentialgene_list))\n",
    "print('')"
   ]
  },
  {
   "cell_type": "markdown",
   "metadata": {},
   "source": [
    "### Create a histogram\n",
    "A histogram is plotted where the number of reads and number of transposons are shown for essential and non-essential genes together.\n",
    "This shows the distribution of the number of reads and insertions for the complete dataset."
   ]
  },
  {
   "cell_type": "code",
   "execution_count": 9,
   "metadata": {
    "execution": {
     "iopub.execute_input": "2020-06-17T08:22:22.667588Z",
     "iopub.status.busy": "2020-06-17T08:22:22.666892Z",
     "iopub.status.idle": "2020-06-17T08:22:23.495365Z",
     "shell.execute_reply": "2020-06-17T08:22:23.494756Z"
    }
   },
   "outputs": [
    {
     "data": {
      "image/png": "[encoded data removed]",
      "text/plain": [
       "<Figure size 1080x360 with 2 Axes>"
      ]
     },
     "metadata": {
      "filenames": {
       "image/png": "/home/runner/work/SATAY-jupyter-book/SATAY-jupyter-book/mini_book/docs/_build/jupyter_execute/statistics_pergene_17_0.png"
      },
      "needs_background": "light"
     },
     "output_type": "display_data"
    }
   ],
   "source": [
    "plt.figure(figsize=(15,5))\n",
    "grid = plt.GridSpec(1, 2, wspace=0.4, hspace=0.3)\n",
    "\n",
    "ax1 = plt.subplot(grid[0,0])\n",
    "n_reads,bins_reads,patches_reads = ax1.hist(reads_pergene_list, density=False, bins=range(min(reads_pergene_list), max(reads_pergene_list) + 1000, 1000), facecolor='blue',alpha=0.5, label='Reads')\n",
    "ax1.axvline(x=np.nanmedian(reads_pergene_list), linestyle='--', label='Median Reads', color='k')\n",
    "ax1.set_xlim([0,50000])\n",
    "ax1.set_xlabel('Reads per gene (all genes)')\n",
    "ax1.set_ylabel('Occurance')\n",
    "ax1.legend()\n",
    "ax1.grid()\n",
    "\n",
    "ax2 = plt.subplot(grid[0,1])\n",
    "n_tn,bins_tn,patches_tn = ax2.hist(tn_pergene_list, density=False, bins=range(min(tn_pergene_list), max(tn_pergene_list) + 50, 50), facecolor='red',alpha=0.5, label='Transposons')\n",
    "ax2.axvline(x=np.nanmedian(tn_pergene_list), linestyle='--', label='Median Transposons', color='k')\n",
    "ax2.set_xlim([0,1000])\n",
    "ax2.set_xlabel('Counts per gene (all genes)')\n",
    "ax2.set_ylabel('Occurance')\n",
    "ax2.legend()\n",
    "ax2.grid()\n",
    "plt.show()"
   ]
  },
  {
   "cell_type": "markdown",
   "metadata": {},
   "source": [
    "### Create a violin plot\n",
    "This shows the distribution for the reads and insertions for the dataset separated by annotated essentiality.\n",
    "\n",
    "When `normalization` is set to `True`, the plots represent read- and transposon densities. Otherwise the plots show the actual counts."
   ]
  },
  {
   "cell_type": "code",
   "execution_count": 10,
   "metadata": {
    "execution": {
     "iopub.execute_input": "2020-06-17T08:22:23.517946Z",
     "iopub.status.busy": "2020-06-17T08:22:23.502622Z",
     "iopub.status.idle": "2020-06-17T08:22:24.249865Z",
     "shell.execute_reply": "2020-06-17T08:22:24.249369Z"
    }
   },
   "outputs": [
    {
     "data": {
      "image/png": "[encoded data removed]",
      "text/plain": [
       "<Figure size 1080x360 with 2 Axes>"
      ]
     },
     "metadata": {
      "filenames": {
       "image/png": "/home/runner/work/SATAY-jupyter-book/SATAY-jupyter-book/mini_book/docs/_build/jupyter_execute/statistics_pergene_19_0.png"
      },
      "needs_background": "light"
     },
     "output_type": "display_data"
    }
   ],
   "source": [
    "plt.figure(figsize=(15,5))\n",
    "grid = plt.GridSpec(1, 2, wspace=0.4, hspace=0.3)\n",
    "\n",
    "\n",
    "ax1 = plt.subplot(grid[0,0])\n",
    "sns.set(style='whitegrid', palette='pastel', color_codes=True)\n",
    "df['Reads'] = ''\n",
    "if normalize == 'False':\n",
    "    sns.violinplot(x='Reads',y=\"Reads_per_gene\", hue='Essential_gene', inner='quarter', gridsize=1000, palette={False:'r', True:'g'}, split=True, cut=0, orient='v', data=df, ax=ax1)\n",
    "else:\n",
    "    sns.violinplot(x='Reads',y=\"Read_density_per_gene\", hue='Essential_gene', inner='quarter', gridsize=1000, palette={False:'r', True:'g'}, split=True, cut=0, orient='v', data=df, ax=ax1)\n",
    "ax1.set_ylim([0,25])\n",
    "ax1.grid()\n",
    "\n",
    "\n",
    "ax2 = plt.subplot(grid[0,1])\n",
    "df['Transposons'] = ''\n",
    "if normalize == False:\n",
    "    sns.violinplot(x='Transposons',y=\"Transposons_per_gene\", hue='Essential_gene', inner='quarter', gridsize=1000, palette={'False':'r', 'True':'g'}, split=True, cut=0, orient='v', data=df, ax=ax2)\n",
    "else:\n",
    "    sns.violinplot(x='Transposons',y=\"Transposon_density_per_gene\", hue='Essential_gene', inner='quarter', gridsize=1000, palette={False:'r', True:'g'}, split=True, cut=0, orient='v', data=df, ax=ax2)\n",
    "ax2.set_ylim([0.0,0.5])\n",
    "ax2.grid()\n",
    "\n",
    "plt.show()"
   ]
  },
  {
   "cell_type": "markdown",
   "metadata": {},
   "source": [
    "## Interpretation\n",
    "\n",
    "Initially it is expected that the number of reads and the number of insertions are higher for the non-essential genes as these are more tolerant to transposons than the essential genes.\n",
    "Note that 'essential' means 'annotated essential' here, and not 'essential based on the data'.\n",
    "It might occur that genes are annotated as (non-)essential, but that this does not agree with the data.\n",
    "This might skew the data shown in the graphs, but since it is expected that these situations do not occur frequently these graphs can still give a good indication about the differences in number of reads and insertions per (non-)essential gene.\n",
    "\n",
    "Ideally the median values of the essential and nonessential genes are far apart from each other, so that a clear distinction can be made between which genes are essential and which are not based on the transposon counts. If this is not the case or when there is significant overlap between the distribution, no definite conclusion can be drawn about the essentiality.\n",
    "\n",
    "Usually, essential genes have little transposon counts, but nonessential genes can have both high or low transposon counts (for an explanation on this effect, see the paper by Michel et.al. 2017).\n",
    "This means that if a high transposon count occurs, the gene is probably nonessential.\n",
    "But if a low transposon count is present, typically no definite conclusion can be drawn about its essentiality."
   ]
  },
  {
   "cell_type": "markdown",
   "metadata": {},
   "source": [
    "## Bibliography\n",
    "- Michel, A. H., Hatakeyama, R., Kimmig, P., Arter, M., Peter, M., Matos, J., ... & Kornmann, B. (2017). Functional mapping of yeast genomes by saturated transposition. Elife, 6, e23570.\n",
    "- Segal, E. S., Gritsenko, V., Levitan, A., Yadav, B., Dror, N., Steenwyk, J. L., ... & Kunze, R. (2018). Gene essentiality analyzed by in vivo transposon mutagenesis and machine learning in a stable haploid isolate of Candida albicans. MBio, 9(5), e02048-18."
   ]
  }
 ],
 "metadata": {
  "jupytext": {
   "text_representation": {
    "extension": ".md",
    "format_name": "myst",
    "format_version": "0.8",
    "jupytext_version": "1.4.2"
   }
  },
  "kernelspec": {
   "display_name": "Python 3",
   "name": "python3"
  },
  "language_info": {
   "codemirror_mode": {
    "name": "ipython",
    "version": 3
   },
   "file_extension": ".py",
   "mimetype": "text/x-python",
   "name": "python",
   "nbconvert_exporter": "python",
   "pygments_lexer": "ipython3",
   "version": "3.7.6"
  },
  "source_map": [
   11,
   15,
   29,
   41,
   49,
   64,
   69,
   78,
   84,
   114,
   128,
   135,
   196,
   201,
   216,
   220,
   268,
   274,
   296,
   303,
   329,
   344
  ]
 },
 "nbformat": 4,
 "nbformat_minor": 4
}