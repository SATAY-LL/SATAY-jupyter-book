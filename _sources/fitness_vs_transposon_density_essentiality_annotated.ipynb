{
 "cells": [
  {
   "cell_type": "markdown",
   "metadata": {},
   "source": [
    "# Fitness vs Transposon density . Is there a fitness difference between low density and high density? \n",
    "\n",
    "```{note}\n",
    "This script reads:\n",
    "- 'Data-fitness.xlsx'\n",
    "- 'transposon-density-per-gene-benoit.xlsx'.\n",
    "It also requires:\n",
    "- r\"N:\\tnw\\BN\\LL\\Shared\\Gregory\\Gene_Database\\Cervisiae_EssentialGenes_List_1.txt\"\n",
    "- r\"N:\\tnw\\BN\\LL\\Shared\\Gregory\\Gene_Database\\Cervisiae_EssentialGenes_List_2.txt\"\n",
    "- r\"N:\\tnw\\BN\\LL\\Shared\\Gregory\\Gene_Database\\Yeast_Protein_Names.txt\"\n",
    "and requires the python modules\n",
    "- essential_genes_names.py\n",
    "- gene_names.py\n",
    "\n",
    "This script creates a scatterplot for transposon_density vs fitness-SGA.\n",
    "All genes that are used to create the plot are searched for is they are annotated as essential genes.\n",
    "This is also done for any potential aliases the genes might have.\n",
    "\n",
    "This code is a part from 'fitness_vs_transposon_density.py' created by Leila.\n",
    "\n",
    "```"
   ]
  },
  {
   "cell_type": "code",
   "execution_count": 1,
   "metadata": {
    "execution": {
     "iopub.execute_input": "2020-06-15T00:38:36.395236Z",
     "iopub.status.busy": "2020-06-15T00:38:36.394540Z",
     "iopub.status.idle": "2020-06-15T00:38:41.292941Z",
     "shell.execute_reply": "2020-06-15T00:38:41.292462Z"
    }
   },
   "outputs": [],
   "source": [
    "import numpy as np\n",
    "import scipy.io\n",
    "import seaborn as sns\n",
    "from scipy import stats, optimize, interpolate\n",
    "import pandas as pd\n",
    "from collections import defaultdict \n",
    "import math\n",
    "import matplotlib.pyplot as plt\n",
    "from scipy.stats import norm, lognorm\n",
    "from scipy import stats\n",
    "import matplotlib.cm as cm\n",
    "import matplotlib.mlab as mlab\n",
    "import os, fnmatch\n",
    "import sys"
   ]
  },
  {
   "cell_type": "markdown",
   "metadata": {},
   "source": [
    "```{admonition} Implement this in a self consistent matter!\n",
    "\n",
    "SET PATH TO PYTHON MODULES (r\"N:\\tnw\\BN\\LL\\Shared\\Gregory\\Python\\Python_modules\")\n",
    "sys.path.insert(1,r\"C:\\Users\\gregoryvanbeek\\Documents\\Python Scripts\\Python_modules\")\n",
    "from essential_genes_names import list_known_essentials\n",
    "from gene_names import gene_aliases\n",
    "\n",
    "```\n",
    "## Importing datasets \n",
    "### Published data in the cellmap.org 2016 \n",
    "\n",
    "```{admonition} Implement this in a self consistent matter!\n",
    "\n",
    "data_fitness_sga=pd.read_excel(r\"C:\\Users\\gregoryvanbeek\\Documents\\Gene_Database\\Fitness_Data\\Data-fitness.xlsx\",header=0,sheet_name='NxN')\n",
    "\n",
    "```\n",
    "\n",
    "```python\n",
    "data_fitness_sga.columns=['query-strain','query-allele-name','array-strain','array-allele-name','array-type','score','p-value','query-fitness','array-fitness','double-fitness','double-fitness-std']\n",
    "```\n",
    "\n",
    "### data saved from the df dataframe of statistics_per_gene.ipynb\n",
    "\n",
    "```{admonition} Implement this in a self consistent matter!\n",
    "\n",
    "data_transposon=pd.read_excel(r\"C:\\Users\\gregoryvanbeek\\Documents\\Gene_Database\\transposon-density-per-gene-benoit.xlsx\",header=0)\n",
    "data_transposon=data_transposon.drop(['Unnamed: 0'],axis=1)\n",
    "data_transposon=data_transposon.apply(lambda x: x.astype(str).str.lower()) # make everything lowercase\n",
    "\n",
    "```\n",
    "\n",
    "## Transform back these columns into float variables\n",
    "\n",
    "```python\n",
    "- data_transposon['Transposon_density_per_gene']=data_transposon['Transposon_density_per_gene'].apply(lambda x: (float(x)))\n",
    "- data_transposon['Read_density_per_gene']=data_transposon['Read_density_per_gene'].apply(lambda x: (float(x)))\n",
    "```"
   ]
  },
  {
   "cell_type": "code",
   "execution_count": 2,
   "metadata": {
    "execution": {
     "iopub.execute_input": "2020-06-15T00:38:41.297064Z",
     "iopub.status.busy": "2020-06-15T00:38:41.296372Z",
     "iopub.status.idle": "2020-06-15T00:38:41.300658Z",
     "shell.execute_reply": "2020-06-15T00:38:41.300110Z"
    }
   },
   "outputs": [],
   "source": [
    "df_transposon_fitness=defaultdict(dict)"
   ]
  },
  {
   "cell_type": "markdown",
   "metadata": {},
   "source": [
    "## Big for loop to associate fitness values to essential and non essential genes \n",
    "\n",
    "```python\n",
    "for i in data_transposon['Gene_name']:\n",
    "    if len(data_fitness_sga[data_fitness_sga['query-allele-name']==i])!=0:\n",
    "        df_transposon_fitness['gene-merge'][i]=i\n",
    "        df_transposon_fitness['transposon-density'][i]=float(data_transposon[data_transposon['Gene_name']==i]['Transposon_density_per_gene'].tolist()[0])\n",
    "        df_transposon_fitness['fitness-SGA'][i]=data_fitness_sga[data_fitness_sga['query-allele-name']==i]['query-fitness'].tolist()[0]\n",
    "        if data_transposon[data_transposon['Gene_name']==i]['Essential_gene'].tolist()==['true']:\n",
    "            df_transposon_fitness['essential-by-benoit']='true'\n",
    "        else :\n",
    "            df_transposon_fitness['essential-by-benoit']='false'\n",
    "    else :\n",
    "        if len(data_fitness_sga[data_fitness_sga['array-allele-name']==i])!=0:\n",
    "            df_transposon_fitness['gene-merge'][i]=i\n",
    "            df_transposon_fitness['transposon-density'][i]=float(data_transposon[data_transposon['Gene_name']==i]['Transposon_density_per_gene'].tolist()[0])\n",
    "            df_transposon_fitness['fitness-SGA'][i]=data_fitness_sga[data_fitness_sga['array-allele-name']==i]['array-fitness'].tolist()[0]\n",
    "            if data_transposon[data_transposon['Gene_name']==i]['Essential_gene'].tolist()==['true']:\n",
    "                df_transposon_fitness['essential-by-benoit']='true'\n",
    "            else :\n",
    "                df_transposon_fitness['essential-by-benoit']='false'\n",
    "```\n",
    "\n",
    "```{note}\n",
    "df_transposon_fitness=pd.DataFrame(df_transposon_fitness)\n",
    "df_transposon_fitness_filtered=df_transposon_fitness[df_transposon_fitness['fitness-SGA']<1]\n",
    "```\n",
    "\n",
    "## USE FUNCTIONS TO GET NAMES OF ESSENTIAL GENES. FILES USED ARE:\n",
    "\n",
    "```{admonition} Implement this in a self consistent matter!\n",
    "\n",
    "r\"N:\\tnw\\BN\\LL\\Shared\\Gregory\\Gene_Database\\Cervisiae_EssentialGenes_List_1.txt\"\n",
    "r\"N:\\tnw\\BN\\LL\\Shared\\Gregory\\Gene_Database\\Cervisiae_EssentialGenes_List_2.txt\"\n",
    "r\"N:\\tnw\\BN\\LL\\Shared\\Gregory\\Gene_Database\\Yeast_Protein_Names.txt\"\n",
    "known_essential_gene_list = list_known_essentials([r\"C:\\Users\\gregoryvanbeek\\Documents\\Gene_Database\\Cervisiae_EssentialGenes_List_1.txt\",r\"C:\\Users\\gregoryvanbeek\\Documents\\Gene_Database\\Cervisiae_EssentialGenes_List_2.txt\"])\n",
    "aliases_designation_dict, aliases_sgd_dict, aliases_swissprot_dict = gene_aliases(r\"C:\\Users\\gregoryvanbeek\\Documents\\Gene_Database\\Yeast_Protein_Names.txt\")\n",
    "```\n",
    "\n",
    "```python\n",
    "essential_counter = 0\n",
    "for n in range(df_transposon_fitness_filtered.shape[0]):\n",
    "    gene_inDF = df_transposon_fitness_filtered['gene-merge'][n].upper()\n",
    "    if gene_inDF in known_essential_gene_list:\n",
    "        df_transposon_fitness_filtered['essential-by-benoit'][n] = 'true'\n",
    "        print(gene_inDF, ' is annotated as essential')\n",
    "        essential_counter += 1\n",
    "    elif gene_inDF in aliases_designation_dict:\n",
    "        for alias in aliases_designation_dict.get(gene_inDF):\n",
    "            if alias in known_essential_gene_list:\n",
    "                df_transposon_fitness_filtered['essential-by-benoit'][n] = 'true'\n",
    "                print(gene_inDF, ' with alias ',alias, ' is annotated as essential')\n",
    "                essential_counter += 1\n",
    "    else:\n",
    "        for key, val in aliases_designation_dict.items():\n",
    "            if gene_inDF in val:\n",
    "                for alias in val:\n",
    "                    if alias in known_essential_gene_list:\n",
    "                        df_transposon_fitness_filtered['essential-by-benoit'][n] = 'true'\n",
    "                        print(gene_inDF, ' with alias ',alias, ' is annotated as essential')\n",
    "                        essential_counter += 1\n",
    "print('Number of essential genes found = ',essential_counter)\n",
    "```\n",
    "\n",
    "```python\n",
    "df_transposon_fitness_filtered_renamed = df_transposon_fitness_filtered.rename(columns={'essential-by-benoit': 'annotated-essentials'})\n",
    "df_transposon_fitness_filtered_ordered = df_transposon_fitness_filtered_renamed.sort_values(by=['annotated-essentials'], ascending=True)\n",
    "sns.scatterplot(x='transposon-density' ,y='fitness-SGA',hue='annotated-essentials', data=df_transposon_fitness_filtered_ordered,palette=['green','red'],alpha=0.6, linewidth=0)\n",
    "plt.savefig('transposon-density-vs-fitness-NxN-scatter.png',dpi=300,format='png',transparent=False)\n",
    "sns.jointplot(\"transposon-density\", \"fitness-SGA\", data=df_transposon_fitness_filtered, height=6, ratio=3, color='essential-by-benoit', xlim=[0,0.5],ylim=[0,1.0],kind='scatter',alpha=0.3)\n",
    "```"
   ]
  }
 ],
 "metadata": {
  "jupytext": {
   "text_representation": {
    "extension": ".md",
    "format_name": "myst",
    "format_version": "0.8",
    "jupytext_version": "1.4.1+dev"
   }
  },
  "kernelspec": {
   "display_name": "Python 3",
   "language": "python",
   "name": "python3"
  },
  "language_info": {
   "codemirror_mode": {
    "name": "ipython",
    "version": 3
   },
   "file_extension": ".py",
   "mimetype": "text/x-python",
   "name": "python",
   "nbconvert_exporter": "python",
   "pygments_lexer": "ipython3",
   "version": "3.7.6"
  },
  "source_map": [
   12,
   36,
   51,
   91,
   93
  ]
 },
 "nbformat": 4,
 "nbformat_minor": 4
}