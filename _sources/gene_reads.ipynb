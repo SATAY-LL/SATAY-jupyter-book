{
 "cells": [
  {
   "cell_type": "markdown",
   "metadata": {},
   "source": [
    "# Gene reads script"
   ]
  },
  {
   "cell_type": "markdown",
   "metadata": {},
   "source": [
    "## Introduction\n",
    "To get an indication of possible essential genes, the number of transposon insertions and amount of reads per transposon is plotted along the length of the gene. If a gene consists of a large area without any insertions or with little reads, this might indicate an essential (region of a) gene.\n",
    "However, it sometimes might happen that non-essential genes have no transposons. This can mulitple reasons, most notable which are:\n",
    "- Sequencing reads that map to repeated sequences were discarded during alignment. If these repeated sequences occur in protein coding regions in the genome, then these regions might be removed during alignment and therefore these genes appear to be free of transposon, even though these genes might not be essential.\n",
    "- Annotated dubious ORFs might overlap with essential genes. So the dubious ORFs are not essential, but have no insertions because of the overlap.\n",
    "- Sometimes genes might not be essential in normal growth conditions (and hence are not annotated as such), but in particular lab conditions some genes can become essential (for example genes involved in the metabolism of certain sugars).\n",
    "\n",
    "Also, sometimes transposons occur in essential genes. This can be because not the complete gene is essential, but only certain domains of the gene are essential. The non-essential domain can be truncated and still create a function protein with only the essential domains left. Also, sometimes the first and/or last few basepairs can be truncated while still leave a gene that can be transcribed and translated in a functional protein.\n",
    "\n",
    "For a more thorough discussion, see the paper from Michel et.al. 2017."
   ]
  },
  {
   "cell_type": "markdown",
   "metadata": {},
   "source": [
    "## The python script\n",
    "This function creates a bar plot with the number of reads per transposon for regions in a gene. It also shows the exact locations of the insertions along the gene. The width of the bars are chosen such that each bar include a fixed amount of transposons. A maximum threshold is set to account for the situation where there are little or no transposons present for large portion of the gene.\n",
    "\n",
    "Next to the bar plot, this function also creates a violin plot where a distribution is shown for the distance (in terms of basepairs) between subsequent insertions. This is compared with the distance between insertions in the entire chromosome the gene is in. If the median distance between insertions is significantly higher in the gene compared to the chromosome, then this might be an indication of an essential gene."
   ]
  },
  {
   "cell_type": "markdown",
   "metadata": {},
   "source": [
    "### Input\n",
    "The function inputs either a gene name (`gene_name`, type=string) or a region (`region`, type=list) specified as a list with three entries (chromosome number as a roman numeral, start position of the region and the end position respectively).\n",
    "The variable `gene_name` can be set to any gene name or `holocus` or `ho-locus`.\n",
    "Next it requires the bed-file (`bed_file`, type=string) which is created by the Matlab code provided from the Kornman lab [https://sites.google.com/site/satayusers/complete-protocol/bioinformatics-analysis/matlab-script].\n",
    "Finally, the figure can be automatically saved (at a location specified in the beginning of the function) by setting `savefigure` to `True`.\n",
    "\n",
    "The custom build functions (stored in the 'python modules' folder on Github [https://github.com/Gregory94/LaanLab-SATAY-DataAnalysis/tree/master/python_modules]) that are required are:\n",
    "- chromosome_and_gene_positions.gene_position\n",
    "- gene_names.gene_aliases\n",
    "- chromosome_names_in_files.chromosome_props_bedfile\n",
    "- statistics_perchromosome"
   ]
  },
  {
   "cell_type": "code",
   "execution_count": 1,
   "metadata": {
    "execution": {
     "iopub.execute_input": "2020-07-17T14:49:28.887875Z",
     "iopub.status.busy": "2020-07-17T14:49:28.886039Z",
     "iopub.status.idle": "2020-07-17T14:49:30.083238Z",
     "shell.execute_reply": "2020-07-17T14:49:30.082711Z"
    }
   },
   "outputs": [
    {
     "name": "stdout",
     "output_type": "stream",
     "text": [
      "True\n"
     ]
    }
   ],
   "source": [
    "import os, sys\n",
    "import numpy as np\n",
    "import matplotlib.pyplot as plt\n",
    "import pandas as pd\n",
    "import seaborn as sb\n",
    "\n",
    "# file_dirname = os.path.dirname(os.path.abspath('__file__'))\n",
    "file_dirname = os.path.dirname('__file__')\n",
    "# sys.path.insert(1,os.path.join(file_dirname,'python_modules'))\n",
    "# os.chdir('mini_book/docs/Python_scripts/python_modules/') # with this path works in the local build\n",
    "from Python_scripts.python_modules.chromosome_and_gene_positions import gene_position\n",
    "from Python_scripts.python_modules.gene_names import gene_aliases\n",
    "from Python_scripts.python_modules.chromosome_names_in_files import chromosome_name_bedfile\n",
    "import Python_scripts.python_modules.statistics_perchromosome as statistics_perchromosome\n",
    "\n",
    "\n",
    "#FUNCTION INPUTS\n",
    "gene_name = 'bem1'\n",
    "region=None\n",
    "\n",
    "bed_file = os.path.join(file_dirname,'satay_analysis_testdata','Output_Processing','Cerevisiae_WT2_Michel2017_trimmed1.bam.bed')#CHANGE THIS TO ANY .BED FILE YOU WANT TO ANALYSE.\n",
    "\n",
    "print(os.path.exists(os.path.join(file_dirname,'satay_analysis_testdata','Output_Processing')))\n",
    "savefigure=False"
   ]
  },
  {
   "cell_type": "markdown",
   "metadata": {},
   "source": [
    "### Loading files\n",
    "Next additional files are loaded. Change these to your local paths leading to the gff-file (for example downloaded from SGD [https://www.yeastgenome.org/] or get a copy from the docs folder on Github [https://github.com/Gregory94/LaanLab-SATAY-DataAnalysis]) and yeast_protein_Names file.\n",
    "The `save_figure_path` directs to the location where the figures need to be stored."
   ]
  },
  {
   "cell_type": "code",
   "execution_count": 2,
   "metadata": {
    "execution": {
     "iopub.execute_input": "2020-07-17T14:49:30.088290Z",
     "iopub.status.busy": "2020-07-17T14:49:30.087771Z",
     "iopub.status.idle": "2020-07-17T14:49:30.090781Z",
     "shell.execute_reply": "2020-07-17T14:49:30.091197Z"
    }
   },
   "outputs": [],
   "source": [
    "# os.chdir('../')\n",
    "file_dirname = os.path.dirname('__file__')\n",
    "\n",
    "gff_file = 'Python_scripts/Data_Files/Saccharomyces_cerevisiae.R64-1-1.99.gff3'\n",
    "abs_gff_file = os.path.join(file_dirname, gff_file)\n",
    "# gff_file = os.path.join(file_dirname,'Data_Files','Saccharomyces_cerevisiae.R64-1-1.99.gff3')\n",
    "gene_information_file = os.path.join(file_dirname,'Python_scripts','Data_Files','Yeast_Protein_Names.txt')\n",
    "\n",
    "\n",
    "if savefigure == True:\n",
    "    save_figure_path = file_dirname"
   ]
  },
  {
   "cell_type": "markdown",
   "metadata": {},
   "source": [
    "### Get start and end position of the gene or region\n",
    "When a gene name is given, this part searches in the .gff file for the position and reading orientation of the gene.\n",
    "However, often genes have multiple names and the name given by the user might be present as such in the .gff file.\n",
    "Therefore this code searches for potential aliases of the gene name in the Yeast_Protein_Names.txt file."
   ]
  },
  {
   "cell_type": "code",
   "execution_count": 3,
   "metadata": {
    "execution": {
     "iopub.execute_input": "2020-07-17T14:49:30.140726Z",
     "iopub.status.busy": "2020-07-17T14:49:30.098454Z",
     "iopub.status.idle": "2020-07-17T14:49:30.166816Z",
     "shell.execute_reply": "2020-07-17T14:49:30.166359Z"
    }
   },
   "outputs": [
    {
     "name": "stdout",
     "output_type": "stream",
     "text": [
      "The alias  YBR200W  is used for the gene  BEM1\n",
      "BEM1  starts at basepair  620872  and ends at basepair  622527  in chromosome II\n"
     ]
    }
   ],
   "source": [
    "if gene_name.upper() == 'HOLOCUS' or gene_name == 'HO-LOCUS':\n",
    "    gene_pos = ['IV',46271,48031]\n",
    "    gene_name = 'HOlocus'\n",
    "\n",
    "elif gene_name != None:\n",
    "    gene_pos_dict = gene_position(gff_file) #GET POSITION INFORMATION OF ALL GENES\n",
    "    \n",
    "    gene_name = gene_name.upper() #CAPITALIZE GENE NAME\n",
    "    if gene_pos_dict.get(gene_name) == None: #CHECK IF GENE_NAME EXISTS IN GENE_POS_DICT. IF NOT, CHECK IF ANY OF THE ALIASES EXISTS\n",
    "        gene_alias_dict = gene_aliases(gene_information_file)[0]\n",
    "        gene_alias_key = [k for k, v in gene_alias_dict.items() if gene_name in v]\n",
    "        if gene_pos_dict.get(gene_alias_key[0]) == None: #IF KEY DOES ALSO NOT EXISTS IN GENE_POS_DICT, CHECK IF MORE ALIASES EXISTS OF GENE_NAME\n",
    "            gene_alias_list = gene_alias_dict.get(gene_alias_key[0])\n",
    "            for gene_alias in gene_alias_list:\n",
    "                if gene_pos_dict.get(gene_alias) != None:\n",
    "                    gene_pos = gene_pos_dict.get(gene_alias)\n",
    "                    print('The alias ',gene_alias, ' is used for the gene ',gene_name)\n",
    "        else:\n",
    "            gene_pos = gene_pos_dict.get(gene_alias_key[0])\n",
    "            print('The alias ',gene_alias_key[0], ' is used for the gene ',gene_name)\n",
    "            \n",
    "    else:\n",
    "        gene_pos = gene_pos_dict.get(gene_name)\n",
    "\n",
    "    gene_orien = gene_pos[3]\n",
    "\n",
    "elif region != None:\n",
    "    gene_pos = region\n",
    "    \n",
    "\n",
    "gene_chr = gene_pos[0]\n",
    "gene_start = int(gene_pos[1])\n",
    "gene_end = int(gene_pos[2])\n",
    "if gene_name != None:\n",
    "    print(gene_name, ' starts at basepair ',gene_start, ' and ends at basepair ',gene_end, ' in chromosome',gene_chr)\n",
    "else:\n",
    "    print('Selected region starts at basepair ',gene_start, ' and ends at basepair ',gene_end, ' in chromosome',gene_chr)"
   ]
  },
  {
   "cell_type": "markdown",
   "metadata": {},
   "source": [
    "### Get the reads\n",
    "Next, get the reads per transposon as stored in the bed file. For this the bed file is read and the lines are determined where in the bed file the insertions are for the chromosome where the gene is located in (using the chromosome_props_bedfile.py module). Within the chromosome, the insertion locations are searched that fall within the location of the gene.\n",
    "the values for the reads that found in the bed file are determined by taking the value -100 and divided by 20. This is undo what is done in the Matlab code by Benoit for better visualization, but in this code we want to take the actual values and therefore the formula used by the Matlab code is reversed."
   ]
  },
  {
   "cell_type": "code",
   "execution_count": 4,
   "metadata": {
    "execution": {
     "iopub.execute_input": "2020-07-17T14:49:30.198864Z",
     "iopub.status.busy": "2020-07-17T14:49:30.172127Z",
     "iopub.status.idle": "2020-07-17T14:49:30.714775Z",
     "shell.execute_reply": "2020-07-17T14:49:30.713569Z"
    }
   },
   "outputs": [],
   "source": [
    "with open(bed_file) as f:\n",
    "    lines = f.readlines()\n",
    "\n",
    "chrom_start_line_dict, chrom_end_line_dict= chromosome_name_bedfile(lines)[1:3]\n",
    "\n",
    "insertion_list = []\n",
    "read_list = []\n",
    "for line in lines[chrom_start_line_dict.get(gene_chr):chrom_end_line_dict.get(gene_chr)]:\n",
    "    line_list = line.strip('\\n').split()\n",
    "    if gene_start <= int(line_list[1]) <= gene_end:\n",
    "        insertion_list.append(int(line_list[1]))\n",
    "\n",
    "        read_value = (int(line_list[4])-100)/20 #the matlab script by benoit takes the number of reads*20+100. This line makes this undone\n",
    "        read_list.append(read_value)"
   ]
  },
  {
   "cell_type": "markdown",
   "metadata": {},
   "source": [
    "### Consider double insertions\n",
    "Sometimes a single location has multiple insertions. This piece of code makes sure that the reads from all insertions at the same loation are accounted for."
   ]
  },
  {
   "cell_type": "code",
   "execution_count": 5,
   "metadata": {
    "execution": {
     "iopub.execute_input": "2020-07-17T14:49:30.724206Z",
     "iopub.status.busy": "2020-07-17T14:49:30.723655Z",
     "iopub.status.idle": "2020-07-17T14:49:30.727600Z",
     "shell.execute_reply": "2020-07-17T14:49:30.726803Z"
    }
   },
   "outputs": [],
   "source": [
    "unique_insertion_list = []\n",
    "duplicate_insertion_list = []\n",
    "for ins in insertion_list: #FIND THE CHROMOSOME POSITION OF ALL DUPLICATED TRANSPOSON INSERTION SITES\n",
    "    if ins not in unique_insertion_list:\n",
    "        unique_insertion_list.append(ins)\n",
    "    else:\n",
    "        duplicate_insertion_list.append(ins)\n",
    "duplicate_insertion_list = np.unique(duplicate_insertion_list) #ACCOUNT FOR THE SITUATION WHERE THERE ARE MORE THAN TWO INSERTIONS AT THE SAME LOCATION\n",
    "\n",
    "duplicate_index_list = []\n",
    "for dup in duplicate_insertion_list:\n",
    "    insertion_arr = np.asarray(insertion_list)\n",
    "    duplicate_index_list.append(np.where(insertion_arr == dup)) #GET ALL INDICES OF THE LIST OF TRANSPOSON INSERTIONS WHERE THE DUPLICATES ARE PRESENT. EACH INSERTION LOCATION GETS ITS OWN NUMPY ARRAY WITHIN THIS LIST\n",
    "\n",
    "if len(duplicate_index_list) > 0:\n",
    "    number_of_duplicates_list = [1]*len(insertion_list) #MAKE LIST OF ONES WITH SAME LENGTH AS INSERTION_LIST FOR STORING NUMBER OF DUPLICATES\n",
    "    delete_index = []\n",
    "    for ind_arr in duplicate_index_list: #LOOP OVER ALL INDICES OF DUPLICATES\n",
    "        ind_list = ind_arr[0]\n",
    "        ind_list_max = max(ind_list) #GET THE LAST INDEX OF THE DUPLICATES\n",
    "#            print('Mulitple transposons found at ',ind_list)\n",
    "        for ind in ind_list:\n",
    "            if not ind == ind_list_max:\n",
    "                read_list[ind_list_max] += read_list[ind] #ADD UP THE READS TO THE LAST DUPLICATE\n",
    "                number_of_duplicates_list[ind_list_max] = len(ind_list) #UPDATE NUMBER OF DUPLICATES\n",
    "                delete_index.append(ind)\n",
    "\n",
    "    #REVERSE LOOP OVER LIST FOR DELETING\n",
    "    for del_ind in reversed(delete_index):\n",
    "        del read_list[del_ind] #DELETES THE INDEX WHICH IS NOW ADDED UP TO THE LAST INDEX\n",
    "        del insertion_list[del_ind] #DELETES THE SAME INDICES IN THE INSERTION LISTS.\n",
    "        del number_of_duplicates_list[del_ind]\n",
    "\n",
    "    readspertransposon_list = [x/y for x, y in zip(read_list, number_of_duplicates_list)] #DIVIDE THE NUMBER OF READS BY THE NUMBER OF TRANSPOSONS\n",
    "else:\n",
    "    readspertransposon_list = read_list"
   ]
  },
  {
   "cell_type": "markdown",
   "metadata": {},
   "source": [
    "### Create list of all locations in the gene\n",
    "Create a list with the same length as the number of basepairs in the gene where for each location the number of reads are stored."
   ]
  },
  {
   "cell_type": "code",
   "execution_count": 6,
   "metadata": {
    "execution": {
     "iopub.execute_input": "2020-07-17T14:49:30.733033Z",
     "iopub.status.busy": "2020-07-17T14:49:30.732520Z",
     "iopub.status.idle": "2020-07-17T14:49:30.736762Z",
     "shell.execute_reply": "2020-07-17T14:49:30.737159Z"
    }
   },
   "outputs": [
    {
     "name": "stdout",
     "output_type": "stream",
     "text": [
      "Length of region of interest is  1655\n"
     ]
    }
   ],
   "source": [
    "gene_length = gene_end-gene_start\n",
    "print('Length of region of interest is ',gene_length)\n",
    "insertion_roi_list = list(range(gene_start,gene_end+1))\n",
    "reads_roi_list = list(np.zeros(gene_length+1))\n",
    "\n",
    "read_index = 0\n",
    "for position in insertion_list:\n",
    "    roi_index = insertion_roi_list.index(position)\n",
    "    reads_roi_list[roi_index] = float(readspertransposon_list[read_index])\n",
    "    read_index += 1"
   ]
  },
  {
   "cell_type": "markdown",
   "metadata": {},
   "source": [
    "### Statistics and prepare for plotting\n",
    "Some statistical values are determined, like the average number insertions as well as the median, the percentiles and the coverage. Also the number of basepairs between the insertions are determined here."
   ]
  },
  {
   "cell_type": "code",
   "execution_count": 7,
   "metadata": {
    "execution": {
     "iopub.execute_input": "2020-07-17T14:49:30.745425Z",
     "iopub.status.busy": "2020-07-17T14:49:30.739333Z",
     "iopub.status.idle": "2020-07-17T14:49:31.355450Z",
     "shell.execute_reply": "2020-07-17T14:49:31.354713Z"
    }
   },
   "outputs": [
    {
     "name": "stdout",
     "output_type": "stream",
     "text": [
      "\n",
      "Percentage of coverage is 1.09\n",
      "\n",
      "Mean transposon insertion frequency in gene is 87.11, 101.69 \n",
      "Mean transposon insertion frequency in chromosome is 22.65, 51.73\n",
      "\n",
      "Quartiles transposon insertion frequency in gene is 7.50, 47.00, 128.00 \n",
      "Quartiles transposon insertion frequency in chromosome is 3.00, 7.00, 20.00 \n"
     ]
    }
   ],
   "source": [
    "bp_between_tn_insertions_chr_dict = statistics_perchromosome.chromosome_insertion_periodicity(gene_chr,bed_file)\n",
    "insertion_chromosome_avgperiodicity = np.nanmean(bp_between_tn_insertions_chr_dict.get(gene_chr))\n",
    "insertion_chromosome_stdperiodicity = np.nanstd(bp_between_tn_insertions_chr_dict.get(gene_chr))\n",
    "insertion_chromosome_firstquartileperiodicity = np.nanpercentile(bp_between_tn_insertions_chr_dict.get(gene_chr),25)\n",
    "insertion_chromosome_medperiodicity = np.nanpercentile(bp_between_tn_insertions_chr_dict.get(gene_chr),50)\n",
    "insertion_chromosome_thirdquartileperiodicity = np.nanpercentile(bp_between_tn_insertions_chr_dict.get(gene_chr),75)\n",
    "\n",
    "coverage_percentage = (len(read_list)/len(insertion_roi_list)*100)\n",
    "\n",
    "if insertion_list != []:\n",
    "    bp_between_tn_insertions = [abs(y-x) for x, y in zip(insertion_list[:-1], insertion_list[1:])]\n",
    "    bp_between_tn_insertions.insert(0,insertion_list[0] - gene_start) #ADD START OF GENE (bp=0)\n",
    "    bp_between_tn_insertions.append(gene_end - insertion_list[-1]) #ADD END OF GENE (bp=INDEX LAST TN - GENE LENGTH)\n",
    "\n",
    "    max_empty_region = max(bp_between_tn_insertions)\n",
    "    \n",
    "    insertion_avgperiodicity = np.nanmean(bp_between_tn_insertions)\n",
    "    insertion_stdperiodicity = np.nanstd(bp_between_tn_insertions)\n",
    "    insertion_firstquartileperiodicity = np.nanpercentile(bp_between_tn_insertions,25)\n",
    "    insertion_medperiodicity = np.nanpercentile(bp_between_tn_insertions,50)\n",
    "    insertion_thirdquartileperiodicity = np.nanpercentile(bp_between_tn_insertions,75)\n",
    "else:\n",
    "    max_empty_region = gene_length\n",
    "    bp_between_tn_insertions = [abs(y-x) for x, y in zip(insertion_list[:-1], insertion_list[1:])]\n",
    "    insertion_avgperiodicity = 0\n",
    "    insertion_medperiodicity = 0\n",
    "\n",
    "if insertion_list != []:\n",
    "    print('')\n",
    "    print('Percentage of coverage is %.2f' % coverage_percentage)\n",
    "    print('')\n",
    "    print('Mean transposon insertion frequency in gene is %.2f, %.2f ' % (insertion_avgperiodicity, insertion_stdperiodicity))\n",
    "    print('Mean transposon insertion frequency in chromosome is %.2f, %.2f' % (insertion_chromosome_avgperiodicity, insertion_chromosome_stdperiodicity))\n",
    "    print('')\n",
    "    print('Quartiles transposon insertion frequency in gene is %.2f, %.2f, %.2f ' % (insertion_firstquartileperiodicity, insertion_medperiodicity, insertion_thirdquartileperiodicity))\n",
    "    print('Quartiles transposon insertion frequency in chromosome is %.2f, %.2f, %.2f ' % (insertion_chromosome_firstquartileperiodicity, insertion_chromosome_medperiodicity, insertion_chromosome_thirdquartileperiodicity))"
   ]
  },
  {
   "cell_type": "markdown",
   "metadata": {},
   "source": [
    "### Binning\n",
    "The gene is divided in several bins. The width of the bins are determined to include 8 transposons. So if there are many transposons close together, the bin width will be small whereas insertions that are well separated results in large bins.\n",
    "To account for the situation that are very little insertions or no insertions at all, a maximum bin width is determined to be 8 times the average distance between insertions for the entire chromosome."
   ]
  },
  {
   "cell_type": "code",
   "execution_count": 8,
   "metadata": {
    "execution": {
     "iopub.execute_input": "2020-07-17T14:49:31.366818Z",
     "iopub.status.busy": "2020-07-17T14:49:31.362677Z",
     "iopub.status.idle": "2020-07-17T14:49:31.369809Z",
     "shell.execute_reply": "2020-07-17T14:49:31.369380Z"
    }
   },
   "outputs": [],
   "source": [
    "reads_roi_binnedlist = [] #STORES THE HEIGHT OF THE BARS\n",
    "insertion_roi_binnedlist = [] #STORES THE X POSITION OF THE BARS\n",
    "bin_width = [] #STORES THE WIDTH OF THE BARS\n",
    "\n",
    "currentbin_reads_list = []\n",
    "currentbin_insertion_list = []\n",
    "reads_currentbin = 0\n",
    "insertion_counter = 0\n",
    "for ins in range(0,len(insertion_roi_list)):\n",
    "    currentbin_reads_list.append(reads_roi_list[ins])\n",
    "    currentbin_insertion_list.append(insertion_roi_list[ins])\n",
    "    if reads_roi_list[ins] > 0:\n",
    "        reads_currentbin += 1\n",
    "\n",
    "    if reads_currentbin == 8: #STOP IF THERE ARE 8 INSERTIONS FOUND\n",
    "        reads_roi_binnedlist.append(sum(currentbin_reads_list))\n",
    "        bin_width.append(max(currentbin_insertion_list) - min(currentbin_insertion_list))\n",
    "        insertion_roi_binnedlist.append(insertion_roi_list[ins]-bin_width[-1]/2)\n",
    "        \n",
    "        currentbin_reads_list = []\n",
    "        currentbin_insertion_list = []\n",
    "        reads_currentbin = 0\n",
    "        insertion_counter = 0\n",
    "\n",
    "    elif insertion_counter == int(insertion_chromosome_avgperiodicity*8): #STOP IF THE LENGTH OF THE CURRENTBIN EXCEEDS AVERAGE PERIODICITY OF THE CHROMOSOME * 8\n",
    "        reads_roi_binnedlist.append(sum(currentbin_reads_list))\n",
    "        bin_width.append(max(currentbin_insertion_list) - min(currentbin_insertion_list))\n",
    "        insertion_roi_binnedlist.append(insertion_roi_list[ins]-bin_width[-1]/2)\n",
    "        \n",
    "        currentbin_reads_list = []\n",
    "        currentbin_insertion_list = []\n",
    "        reads_currentbin = 0\n",
    "        insertion_counter = 0\n",
    "\n",
    "    elif gene_start+ins == gene_end: #ACCOUNT FOR THE FINAL BIN IN THE GENE.\n",
    "        reads_roi_binnedlist.append(sum(currentbin_reads_list))\n",
    "        bin_width.append(max(currentbin_insertion_list) - min(currentbin_insertion_list))\n",
    "        insertion_roi_binnedlist.append(insertion_roi_list[ins]-bin_width[-1]/2)\n",
    "\n",
    "    insertion_counter += 1"
   ]
  },
  {
   "cell_type": "markdown",
   "metadata": {},
   "source": [
    "### Plotting\n",
    "Make the bar plot and the violinplot."
   ]
  },
  {
   "cell_type": "code",
   "execution_count": 9,
   "metadata": {
    "execution": {
     "iopub.execute_input": "2020-07-17T14:49:31.390668Z",
     "iopub.status.busy": "2020-07-17T14:49:31.382753Z",
     "iopub.status.idle": "2020-07-17T14:49:35.384605Z",
     "shell.execute_reply": "2020-07-17T14:49:35.385117Z"
    }
   },
   "outputs": [
    {
     "name": "stdout",
     "output_type": "stream",
     "text": [
      "Plotting reads for gene  BEM1 ...\n"
     ]
    },
    {
     "data": {
      "image/png": "[encoded data removed]",
      "text/plain": [
       "<Figure size 1080x360 with 2 Axes>"
      ]
     },
     "metadata": {
      "filenames": {
       "image/png": "/home/runner/work/SATAY-jupyter-book/SATAY-jupyter-book/mini_book/docs/_build/jupyter_execute/gene_reads_20_1.png"
      },
      "needs_background": "light"
     },
     "output_type": "display_data"
    }
   ],
   "source": [
    "if gene_name != None:\n",
    "    print('Plotting reads for gene ', gene_name, '...')\n",
    "else:\n",
    "    print('Plotting reads in range ', gene_start, '..', gene_end, 'in chromosome ', gene_chr, '...')\n",
    "\n",
    "text_size = 12\n",
    "\n",
    "plt.figure(figsize=(15,5))#(figsize=(19,9))\n",
    "grid = plt.GridSpec(1, 3, wspace=0.4, hspace=0.3)\n",
    "\n",
    "ax = plt.subplot(grid[0,:2])\n",
    "ax.bar(insertion_roi_binnedlist,reads_roi_binnedlist,width=bin_width,facecolor=np.array([126.0,164.0,179.0])/255,edgecolor='w')\n",
    "ax.set_axisbelow(True)\n",
    "ax.grid(True)\n",
    "if gene_name != None:\n",
    "    ax.set_title(gene_name, fontweight='bold', fontsize=text_size)\n",
    "elif region == ['IV',46271,48031]:\n",
    "    ax.set_title('HO-locus', fontweight='bold', fontsize=text_size)\n",
    "else:\n",
    "    ax.set_title(str(gene_chr) + str(gene_start) + '-' + str(gene_end))\n",
    "ax.set_xlabel('Basepair position in chromosome '+ gene_chr, fontsize=text_size) \n",
    "ax.set_ylabel('Read/Tn', fontsize=text_size)\n",
    "ax.set_xlim(gene_start,gene_end)\n",
    "\n",
    "if gene_name != None and gene_name != 'HOlocus':\n",
    "    if insertion_list != []:\n",
    "        textstr = '\\n'.join((r'Reading orientation of gene: ' + gene_orien,\n",
    "                            r'Transposon coverage = %.2f percent' % (coverage_percentage),\n",
    "                            r'Mean transposon insertion frequency in gene is %.2f, %.2f ' % (insertion_avgperiodicity, insertion_stdperiodicity),\n",
    "                            r'Mean transposon insertion frequency in chromosome is %.2f, %.2f' % (insertion_chromosome_avgperiodicity, insertion_chromosome_stdperiodicity),\n",
    "                            r'Quartiles transposon insertion frequency in gene is %.2f, %.2f, %.2f ' % (insertion_firstquartileperiodicity, insertion_medperiodicity, insertion_thirdquartileperiodicity),\n",
    "                            r'Quartiles transposon insertion frequency in chromosome is %.2f, %.2f, %.2f ' % (insertion_chromosome_firstquartileperiodicity, insertion_chromosome_medperiodicity, insertion_chromosome_thirdquartileperiodicity)\n",
    "                            ))\n",
    "    else:\n",
    "        textstr = (r'Reading orientation of gene: ' + gene_orien)\n",
    "else:\n",
    "    textstr = '\\n'.join((r'Transposon coverage = %.2f percent' % (coverage_percentage),\n",
    "                        r'Mean transposon insertion frequency in gene is %.2f, %.2f ' % (insertion_avgperiodicity, insertion_stdperiodicity),\n",
    "                        r'Mean transposon insertion frequency in chromosome is %.2f, %.2f' % (insertion_chromosome_avgperiodicity, insertion_chromosome_stdperiodicity),\n",
    "                        r'Quartiles transposon insertion frequency in gene is %.2f, %.2f, %.2f ' % (insertion_firstquartileperiodicity, insertion_medperiodicity, insertion_thirdquartileperiodicity),\n",
    "                        r'Quartiles transposon insertion frequency in chromosome is %.2f, %.2f, %.2f ' % (insertion_chromosome_firstquartileperiodicity, insertion_chromosome_medperiodicity, insertion_chromosome_thirdquartileperiodicity)\n",
    "                        ))\n",
    "props = dict(boxstyle='round', facecolor='grey', alpha=0.8)\n",
    "ax.text(0.05,0.9, textstr, transform=ax.transAxes, fontsize=text_size,\n",
    "    verticalalignment='top',horizontalalignment='left', bbox=props)\n",
    "\n",
    "for ins in insertion_list: #PLOT TICKS ON THE X AXIS TO INDICATE THE EXACT INSERTION LOCATIONS\n",
    "    ax.axvline(x=ins, ymax=0.05, linewidth=1, color='k')\n",
    "\n",
    "\n",
    "\n",
    "# COMPARE DISTRIBUTION OF BASEPAIRS BETWEEN INSERTIONS FOR THE CHROMOSOME AND THE GENE USING VIOLINPLOT\n",
    "plt.subplot(grid[0,2])\n",
    "\n",
    "if gene_name == None:\n",
    "    if region == ['IV',46271,48031]:\n",
    "        gene_name = 'HOlocus'\n",
    "    else:\n",
    "        gene_name = str(gene_chr) + str(gene_start) + '-' + str(gene_end)\n",
    "\n",
    "bp_between_tn_insertions_dict = {}\n",
    "bp_between_tn_insertions_dict[gene_chr] = bp_between_tn_insertions\n",
    "\n",
    "df_chr = pd.DataFrame(bp_between_tn_insertions_chr_dict)\n",
    "df = pd.DataFrame(bp_between_tn_insertions_dict)\n",
    "if len(df) !=0:\n",
    "    df_concat = pd.concat([df,df_chr], axis=0, ignore_index=True)\n",
    "    names_list = ['gene']*len(bp_between_tn_insertions) + ['chromosome']*len(bp_between_tn_insertions_chr_dict.get(gene_chr))\n",
    "    df_concat['label'] = names_list\n",
    "    xlabel=gene_name+' | '+gene_chr\n",
    "    df_concat[xlabel] = ''\n",
    "    df_concat.columns = ['bp between tn','label',xlabel]\n",
    "\n",
    "    sb.set(style=\"whitegrid\", palette=\"pastel\", color_codes=True)\n",
    "    sb.violinplot(data=df_concat,x=xlabel, y='bp between tn', hue='label', inner='quartile', scale='width', gridsize=5000, split=True, cut=0, palette={\"gene\": \"g\", \"chromosome\": \"r\"})\n",
    "    plt.ylim(0,max_empty_region+10)\n",
    "else:\n",
    "    sb.violinplot(data=df_chr, inner='quartile', orien='v', scale='width', gridsize=5000, cut=0)\n",
    "\n",
    "plt.show()\n",
    "if savefigure == True:\n",
    "    plt.savefig(os.path.join(save_figure_path, gene_name+'_TnInsertions.png'), dpi=300)\n",
    "    print('Figure saved at ', save_figure_path)"
   ]
  },
  {
   "cell_type": "markdown",
   "metadata": {},
   "source": [
    "## Interpretation\n",
    "The resulting barplot shows the insertions (represented by the small black bars) along the gene. The blue bars indicate the number of reads per transposon in that bin. This shows how the insertions and reads are distributed along the gene.\n",
    "The reading orientation is indicated by a + (forward reading) or - (reverse reading). The numbers for the mean are given together with the standard deviation (note that this is typically very large). Therefore a more reliable measure might be the percentiles given as the 25th, 50th and the 75th percentile respectively.\n",
    "\n",
    "The violinplot shows the distribution of the amount of basepairs between subsequent insertions for both the gene (green) and the chromomsome the gene is in (red). A significant difference in the median basepairs between insertions might indicate potential essential genes."
   ]
  },
  {
   "cell_type": "markdown",
   "metadata": {},
   "source": [
    "## Bibliography\n",
    "- Michel, A. H., Hatakeyama, R., Kimmig, P., Arter, M., Peter, M., Matos, J., ... & Kornmann, B. (2017). Functional mapping of yeast genomes by saturated transposition. Elife, 6, e23570."
   ]
  }
 ],
 "metadata": {
  "jupytext": {
   "text_representation": {
    "extension": ".md",
    "format_name": "myst",
    "format_version": "0.8",
    "jupytext_version": "1.4.2"
   }
  },
  "kernelspec": {
   "display_name": "Python 3",
   "name": "python3"
  },
  "language_info": {
   "codemirror_mode": {
    "name": "ipython",
    "version": 3
   },
   "file_extension": ".py",
   "mimetype": "text/x-python",
   "name": "python",
   "nbconvert_exporter": "python",
   "pygments_lexer": "ipython3",
   "version": "3.7.6"
  },
  "source_map": [
   11,
   15,
   28,
   35,
   49,
   74,
   80,
   92,
   99,
   137,
   143,
   158,
   163,
   200,
   205,
   216,
   221,
   258,
   264,
   305,
   310,
   394,
   402
  ]
 },
 "nbformat": 4,
 "nbformat_minor": 4
}