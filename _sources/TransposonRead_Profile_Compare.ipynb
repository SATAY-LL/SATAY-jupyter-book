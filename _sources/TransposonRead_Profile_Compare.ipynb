{
 "cells": [
  {
   "cell_type": "markdown",
   "metadata": {},
   "source": [
    "# TransposonRead_Profile_Compare"
   ]
  },
  {
   "cell_type": "markdown",
   "metadata": {},
   "source": [
    "## Introduction\n",
    "One of the most important visual results of the analysis of SATAY data is a plot that show the number of transposon insertions and the number of reads per location in the genome.\n",
    "This script visualizes this using a bar plot for each individual chromosome.\n",
    "These plots can also be useful for visualy comparing two datasets with each other as these bar plots can show deviations between two datasets.\n",
    "\n",
    "This notebook includes two functions that are closely related to the functions in TransposonRead_Profile_Plot.py, but is altered to automatically show two datasets with each other and show the differences between the two.\n",
    "One function is to show the location of transposon insertions and the second function shows the number of reads for each transposon insertion.\n",
    "\n",
    "This can be used as a initial visual check for large differences between two datasets in terms of transposon insertion locations and number of reads per transposon.\n",
    "\n",
    "Below are the packages that needs to be loaded for both functions."
   ]
  },
  {
   "cell_type": "code",
   "execution_count": 1,
   "metadata": {
    "execution": {
     "iopub.execute_input": "2020-07-17T11:21:39.686732Z",
     "iopub.status.busy": "2020-07-17T11:21:39.686192Z",
     "iopub.status.idle": "2020-07-17T11:21:40.740930Z",
     "shell.execute_reply": "2020-07-17T11:21:40.740288Z"
    }
   },
   "outputs": [],
   "source": [
    "import os, sys\n",
    "import numpy as np\n",
    "import matplotlib.pyplot as plt\n",
    "\n",
    "file_dirname = os.path.dirname(os.path.abspath('__file__'))\n",
    "# sys.path.insert(1,os.path.join(file_dirname,'python_modules'))\n",
    "from Python_scripts.python_modules.chromosome_and_gene_positions import chromosome_position, chromosomename_roman_to_arabic, gene_position\n",
    "from Python_scripts.python_modules.essential_genes_names import list_known_essentials\n",
    "from Python_scripts.python_modules.gene_names import gene_aliases\n",
    "from Python_scripts.python_modules.chromosome_names_in_files import chromosome_name_bedfile, chromosome_name_wigfile"
   ]
  },
  {
   "cell_type": "markdown",
   "metadata": {},
   "source": [
    "## The python script for comparing transposon insertion locations\n",
    "\n",
    "This function creates a bar plot with the number of transposons in a chromosome. The background of the bar plot has colored regions that indicate the locations of the genes. Green regions indicate annotated essential genes and red regions are the genes not annotated as essential. The names of the essential genes are given as well.\n",
    "\n",
    "This graph can be used to check how well the transposon data corresponds with the location of essential genes, where only few transposon insertions are expected, which can be directly compared between two datasets."
   ]
  },
  {
   "cell_type": "markdown",
   "metadata": {},
   "source": [
    "### Input\n",
    "The function inputs the path to a bed file (`bed_file`, type=string) which is created by the Matlab code provided from the Kornman lab [https://sites.google.com/site/satayusers/complete-protocol/bioinformatics-analysis/matlab-script].\n",
    "Next it inputs the chromosome number given as a roman numeral (`chrom_user_set`, type=string, list of strings or None-type, default=`None`).\n",
    "When `chrom_user_set` is not given or set a None, the scripts automatically considers all chromosomes.\n",
    "When a list of chromosomes is given, it considers all chromosomes given in the list.\n",
    "The bar width that indicates the width of the final bar plot (`bar_width`, type=int, default=chromosome length divided by 500).\n",
    "The `bar_width` variable takes as default value the length of the chromosome and divides this N bins or equal length.\n",
    "When both `savefigure_path` (type=string, default=`None`) and `savefigure_name` (type=string, default=`None`) are given, the scripts automatically saves all figures to the given location and adds the extension `_chromX` where `X` is changed to the respective chromosome number.\n",
    "\n",
    "If either one of the two are not given or set to None, the figures won't be saved."
   ]
  },
  {
   "cell_type": "code",
   "execution_count": 2,
   "metadata": {
    "execution": {
     "iopub.execute_input": "2020-07-17T11:21:40.746290Z",
     "iopub.status.busy": "2020-07-17T11:21:40.745642Z",
     "iopub.status.idle": "2020-07-17T11:21:40.749526Z",
     "shell.execute_reply": "2020-07-17T11:21:40.749099Z"
    }
   },
   "outputs": [],
   "source": [
    "bed_files = [os.path.join(file_dirname,'satay_analysis_testdata','Output_Processing','Cerevisiae_WT2_Michel2017_trimmed1.bam.bed'),\n",
    "os.path.join(file_dirname,'satay_analysis_testdata','Output_Processing','Cerevisiae_WT2_Michel2017_trimmed2.bam.bed')] # CHANGE THIS TO ANY .BED FILES YOU WANT TO ANALYSE.\n",
    "chrom_user_set = 'I'\n",
    "bar_width_user_set=None\n",
    "savefigure_path=None\n",
    "savefigure_name=None"
   ]
  },
  {
   "cell_type": "markdown",
   "metadata": {},
   "source": [
    "### Loading additional files\n",
    "Next additional files are loaded. Change these to your local paths leading to the gff-file (for example downloaded from SGD [https://www.yeastgenome.org/] or get a copy from the docs folder on Github [https://github.com/Gregory94/LaanLab-SATAY-DataAnalysis]) and yeast_protein_Names file.\n",
    "Also two lists of essential genes are loaded. Some essential genes are present only in a single file, hence both files are used simultaneously."
   ]
  },
  {
   "cell_type": "code",
   "execution_count": 3,
   "metadata": {
    "execution": {
     "iopub.execute_input": "2020-07-17T11:21:40.755272Z",
     "iopub.status.busy": "2020-07-17T11:21:40.754184Z",
     "iopub.status.idle": "2020-07-17T11:21:40.756115Z",
     "shell.execute_reply": "2020-07-17T11:21:40.756547Z"
    }
   },
   "outputs": [],
   "source": [
    "gff_file = os.path.join(file_dirname,'Python_scripts','Data_Files','Saccharomyces_cerevisiae.R64-1-1.99.gff3')\n",
    "\n",
    "essential_genes_files = [os.path.join(file_dirname,'Python_scripts','Data_Files','Cervisiae_EssentialGenes_List_1.txt'),\n",
    "                        os.path.join(file_dirname,'Python_scripts','Data_Files','Cervisiae_EssentialGenes_List_2.txt')]\n",
    "gene_information_file = os.path.join(file_dirname,'Python_scripts','Data_Files','Yeast_Protein_Names.txt')\n"
   ]
  },
  {
   "cell_type": "markdown",
   "metadata": {},
   "source": [
    "### Get chromosome length and essential genes\n",
    "\n",
    "Determine the length and position of all chromosomes and get a list of all genes, all essential genes and the aliases of all the genes."
   ]
  },
  {
   "cell_type": "code",
   "execution_count": 4,
   "metadata": {
    "execution": {
     "iopub.execute_input": "2020-07-17T11:21:40.760549Z",
     "iopub.status.busy": "2020-07-17T11:21:40.760025Z",
     "iopub.status.idle": "2020-07-17T11:21:40.785431Z",
     "shell.execute_reply": "2020-07-17T11:21:40.785958Z"
    }
   },
   "outputs": [
    {
     "name": "stdout",
     "output_type": "stream",
     "text": [
      "Reading file : /home/runner/work/SATAY-jupyter-book/SATAY-jupyter-book/mini_book/docs/Python_scripts/Data_Files/Cervisiae_EssentialGenes_List_1.txt\n",
      "Reading file : /home/runner/work/SATAY-jupyter-book/SATAY-jupyter-book/mini_book/docs/Python_scripts/Data_Files/Cervisiae_EssentialGenes_List_2.txt\n"
     ]
    }
   ],
   "source": [
    "# chr_length_dict, chr_start_pos_dict, chr_end_pos_dict = chromosome_position(gff_file)\n",
    "\n",
    "# gene_pos_dict = gene_position(gff_file)\n",
    "genes_essential_list = list_known_essentials(essential_genes_files)\n",
    "gene_alias_list = gene_aliases(gene_information_file)[0]"
   ]
  }
 ],
 "metadata": {
  "jupytext": {
   "text_representation": {
    "extension": ".md",
    "format_name": "myst",
    "format_version": "0.8",
    "jupytext_version": "1.4.2"
   }
  },
  "kernelspec": {
   "display_name": "Python 3",
   "name": "python3"
  },
  "language_info": {
   "codemirror_mode": {
    "name": "ipython",
    "version": 3
   },
   "file_extension": ".py",
   "mimetype": "text/x-python",
   "name": "python",
   "nbconvert_exporter": "python",
   "pygments_lexer": "ipython3",
   "version": "3.7.6"
  },
  "source_map": [
   11,
   15,
   29,
   40,
   48,
   61,
   68,
   74,
   81,
   87
  ]
 },
 "nbformat": 4,
 "nbformat_minor": 4
}